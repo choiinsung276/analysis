{
 "cells": [
  {
   "cell_type": "markdown",
   "metadata": {},
   "source": [
    "# 데이터 분석 -> numpy, pandas, matplotlib\n",
    "\n",
    "# 머신러닝 -> scikit learn\n",
    "\n",
    "# tensorflow(scikit learn의 부족함 채우는)\n",
    "\n",
    "## numpy ->숫자 , list tuple 배열 \n",
    "\n",
    "## pandas -> \n",
    "\n",
    "## matplotlib -> 시각화"
   ]
  },
  {
   "cell_type": "markdown",
   "metadata": {},
   "source": [
    "# numpy 특징 \n",
    "1) 벡터 및 행렬 연산과 관련된 편리한 기능을 제공\n",
    "2) list와 거의 동일하지만 numpy배열의 특징을 갖는다.\n",
    "    - 배열 : 모든 원소가 같은 자료형이어야 한다. 원소의 갯수를 바꿀 수 없다.\n",
    "3) 빠른 속도를 지원 \n",
    "4) 벡터화 연산, 배열 인덱싱을 통한 질의 가능\n",
    "5) http://www.numpy.org"
   ]
  },
  {
   "cell_type": "code",
   "execution_count": 1,
   "metadata": {},
   "outputs": [],
   "source": [
    "import numpy as np #1차원 배열 2차원배열 (테이블)"
   ]
  },
  {
   "cell_type": "markdown",
   "metadata": {},
   "source": [
    "### 1차원 배열"
   ]
  },
  {
   "cell_type": "code",
   "execution_count": 3,
   "metadata": {},
   "outputs": [
    {
     "name": "stdout",
     "output_type": "stream",
     "text": [
      "[1, 2, 3, 4, 5, 10, 20, '가나다']\n",
      "<class 'list'>\n"
     ]
    }
   ],
   "source": [
    "a1 = [1,2,3,4,5,10,20,\"가나다\"]\n",
    "print(a1)\n",
    "print(type(a1))"
   ]
  },
  {
   "cell_type": "code",
   "execution_count": 9,
   "metadata": {},
   "outputs": [
    {
     "name": "stdout",
     "output_type": "stream",
     "text": [
      "['1' '2' '3' '4' '5' '10' '20' '가나다']\n",
      "<class 'numpy.ndarray'>\n",
      "a2.shape: (8,)\n",
      "a2.ndim: 1\n",
      "len(a2): 8\n"
     ]
    }
   ],
   "source": [
    "a2 = np.array([1,2,3,4,5,10,20,\"가나다\"])\n",
    "print(a2)\n",
    "print(type(a2)) #ndarray이다.\n",
    "print(\"a2.shape:\",a2.shape)\n",
    "print(\"a2.ndim:\",a2.ndim)\n",
    "print(\"len(a2):\",len(a2))"
   ]
  },
  {
   "cell_type": "markdown",
   "metadata": {},
   "source": [
    "# list형태를 np.array 함수를 통해 넘파이 배열로 만들기, 넘파이 배열은 벡터화 연산이 가능함"
   ]
  },
  {
   "cell_type": "code",
   "execution_count": 12,
   "metadata": {},
   "outputs": [
    {
     "name": "stdout",
     "output_type": "stream",
     "text": [
      "data*2: [1, 2, 3, 4, 5, 6, 7, 8, 9, 1, 2, 3, 4, 5, 6, 7, 8, 9] 연산이 아니라 반복임\n",
      "[ 2  4  6  8 10 12 14 16 18]\n",
      "[ 3  4  5  6  7  8  9 10 11]\n"
     ]
    }
   ],
   "source": [
    "# 벡터화 연산\n",
    "data = [1,2,3,4,5,6,7,8,9]\n",
    "print(\"data*2:\",data*2,\"연산이 아니라 반복임\")\n",
    "\n",
    "data2 = np.array(data)\n",
    "print(data2 *2)\n",
    "print(data2 +2)"
   ]
  },
  {
   "cell_type": "markdown",
   "metadata": {},
   "source": [
    "# 2차원 배열(콤마가없음)\n",
    "- arr[0] 1행을 저장하는 주소 값임 , arr[1] 2행을 저장하는 주소 값임\n",
    "- 값을 보기위해서는 한번더 찾아가야함 arr[0][0] , arr[0][1], arr[0][2]\n",
    "- arr[1][0] arr[1][1] arr[1][2]\n",
    "- len(arr) = 2 , len(arr[0]) = 3 "
   ]
  },
  {
   "cell_type": "code",
   "execution_count": 19,
   "metadata": {},
   "outputs": [
    {
     "name": "stdout",
     "output_type": "stream",
     "text": [
      "[[0 1 2]\n",
      " [3 4 5]]\n",
      "(2, 3)\n",
      "2\n",
      "---------------\n",
      "arr[0]: [0 1 2]\n",
      "arr[0][1]: 1\n",
      "len(arr): 2\n",
      "len(arr[0]): 3\n"
     ]
    }
   ],
   "source": [
    "arr = np.array([[0,1,2],[3,4,5]])\n",
    "print(arr)\n",
    "print(arr.shape) # 2차원 3열\n",
    "print(arr.ndim) # 2차원\n",
    "print(\"---------------\")\n",
    "print(\"arr[0]:\",arr[0])\n",
    "print(\"arr[0][1]:\",arr[0][1])\n",
    "print(\"len(arr):\",len(arr))\n",
    "print(\"len(arr[0]):\",len(arr[0]))"
   ]
  },
  {
   "cell_type": "markdown",
   "metadata": {},
   "source": [
    "# 3차원 배열\n",
    "- arr 전체\n",
    "- arr[0] 2차원(테이블)\n",
    "- arr[0][0] 1차원 배열 \n",
    "- arr[0][0][0] 1차원 배열의 한개의 값"
   ]
  },
  {
   "cell_type": "code",
   "execution_count": 22,
   "metadata": {},
   "outputs": [
    {
     "name": "stdout",
     "output_type": "stream",
     "text": [
      "[[[ 1  2  3  4]\n",
      "  [ 5  6  7  8]\n",
      "  [ 9 10 11 12]]\n",
      "\n",
      " [[13 14 15 16]\n",
      "  [17 18 19 20]\n",
      "  [21 22 23 24]]]\n",
      "------------\n",
      "[[ 1  2  3  4]\n",
      " [ 5  6  7  8]\n",
      " [ 9 10 11 12]]\n",
      "-----------\n",
      "[1 2 3 4]\n",
      "-------------\n",
      "1\n",
      "------------\n",
      "(2, 3, 4)\n",
      "3\n",
      "2 3 4\n"
     ]
    }
   ],
   "source": [
    "arr = np.array([[[1,2,3,4],[5,6,7,8],[9,10,11,12]],\n",
    "                [[13,14,15,16],[17,18,19,20],[21,22,23,24]]])\n",
    "print(arr)\n",
    "print(\"------------\")\n",
    "print(arr[0])\n",
    "print(\"-----------\")\n",
    "print(arr[0][0])\n",
    "print(\"-------------\")\n",
    "print(arr[0][0][0])\n",
    "print(\"------------\")\n",
    "print(arr.shape)\n",
    "print(arr.ndim)\n",
    "print(len(arr),len(arr[0]),len(arr[0][0]))"
   ]
  },
  {
   "cell_type": "markdown",
   "metadata": {},
   "source": [
    "# 배열의 인덱싱"
   ]
  },
  {
   "cell_type": "code",
   "execution_count": 23,
   "metadata": {},
   "outputs": [
    {
     "name": "stdout",
     "output_type": "stream",
     "text": [
      "2 4\n"
     ]
    }
   ],
   "source": [
    "arr = np.array([0,1,2,3,4])\n",
    "print(arr[2],arr[-1])"
   ]
  },
  {
   "cell_type": "code",
   "execution_count": 25,
   "metadata": {},
   "outputs": [
    {
     "name": "stdout",
     "output_type": "stream",
     "text": [
      "2 2 4 5\n"
     ]
    }
   ],
   "source": [
    "arr = np.array([[0,1,2],[3,4,5]])\n",
    "print(arr[0][2],arr[0][2],arr[1][1],arr[-1][-1])"
   ]
  },
  {
   "cell_type": "code",
   "execution_count": 29,
   "metadata": {},
   "outputs": [
    {
     "name": "stdout",
     "output_type": "stream",
     "text": [
      "[0 2 4 6 8]\n",
      "[0 1 0 1 0 1 0 1 0 1]\n",
      "[ True False  True False  True False  True False  True False]\n",
      "[0 2 4 6 8]\n",
      "[0 3 6 9]\n",
      "[1 5 9]\n"
     ]
    },
    {
     "ename": "ValueError",
     "evalue": "The truth value of an array with more than one element is ambiguous. Use a.any() or a.all()",
     "output_type": "error",
     "traceback": [
      "\u001b[1;31m---------------------------------------------------------------------------\u001b[0m",
      "\u001b[1;31mValueError\u001b[0m                                Traceback (most recent call last)",
      "\u001b[1;32m<ipython-input-29-ecd0043e74a3>\u001b[0m in \u001b[0;36m<module>\u001b[1;34m\u001b[0m\n\u001b[0;32m     13\u001b[0m \u001b[0mprint\u001b[0m\u001b[1;33m(\u001b[0m\u001b[0marr\u001b[0m\u001b[1;33m[\u001b[0m\u001b[0marr\u001b[0m\u001b[1;33m%\u001b[0m\u001b[1;36m4\u001b[0m\u001b[1;33m==\u001b[0m\u001b[1;36m1\u001b[0m\u001b[1;33m]\u001b[0m\u001b[1;33m)\u001b[0m\u001b[1;33m\u001b[0m\u001b[1;33m\u001b[0m\u001b[0m\n\u001b[0;32m     14\u001b[0m \u001b[1;31m#arr에서 3으로 나누면 나눠지고 4로 나누면 1이 남는 수를 찾아라\u001b[0m\u001b[1;33m\u001b[0m\u001b[1;33m\u001b[0m\u001b[1;33m\u001b[0m\u001b[0m\n\u001b[1;32m---> 15\u001b[1;33m \u001b[0mprint\u001b[0m\u001b[1;33m(\u001b[0m\u001b[0marr\u001b[0m\u001b[1;33m[\u001b[0m\u001b[0marr\u001b[0m\u001b[1;33m[\u001b[0m\u001b[0marr\u001b[0m\u001b[1;33m%\u001b[0m\u001b[1;36m3\u001b[0m\u001b[1;33m==\u001b[0m\u001b[1;36m0\u001b[0m\u001b[1;33m]\u001b[0m\u001b[1;33m]\u001b[0m\u001b[1;32mand\u001b[0m\u001b[1;33m[\u001b[0m\u001b[0marr\u001b[0m\u001b[1;33m[\u001b[0m\u001b[0marr\u001b[0m\u001b[1;33m%\u001b[0m\u001b[1;36m4\u001b[0m\u001b[1;33m==\u001b[0m\u001b[1;36m1\u001b[0m\u001b[1;33m]\u001b[0m\u001b[1;33m]\u001b[0m\u001b[1;33m)\u001b[0m\u001b[1;33m\u001b[0m\u001b[1;33m\u001b[0m\u001b[0m\n\u001b[0m",
      "\u001b[1;31mValueError\u001b[0m: The truth value of an array with more than one element is ambiguous. Use a.any() or a.all()"
     ]
    }
   ],
   "source": [
    "# fancy indexing\n",
    "arr = np.array([i for i in range(10) ])\n",
    "idx = np.array([True,False,True,False,True,False,True,False,True,False])\n",
    "\n",
    "print(arr[idx])\n",
    "print(arr%2)\n",
    "print(arr%2 ==0)\n",
    "print(arr[arr%2==0])\n",
    "\n",
    "# arr 에서 3의 배수를 찾아라\n",
    "print(arr[arr%3==0])\n",
    "#arr에서 4로 나누면 1이 남는 수를 찾아라\n",
    "print(arr[arr%4==1])\n",
    "#arr에서 3으로 나누면 나눠지고 4로 나누면 1이 남는 수를 찾아라\n",
    "print(arr[arr[arr%3==0]]and[arr[arr%4==1]])"
   ]
  },
  {
   "cell_type": "markdown",
   "metadata": {},
   "source": [
    " # 배열의 슬라이싱\n",
    " "
   ]
  },
  {
   "cell_type": "code",
   "execution_count": 33,
   "metadata": {
    "scrolled": true
   },
   "outputs": [
    {
     "name": "stdout",
     "output_type": "stream",
     "text": [
      "[[ 0  1  2  3]\n",
      " [ 4  5  6  7]\n",
      " [ 8  9 10 11]]\n",
      "-------------\n",
      "[0 1]\n",
      "-----------\n",
      "[[4 5]\n",
      " [8 9]]\n",
      "-----------\n",
      "[[0 1]\n",
      " [4 5]]\n",
      "----------\n",
      "[[ 8  9 10 11]\n",
      " [ 4  5  6  7]\n",
      " [ 0  1  2  3]]\n"
     ]
    }
   ],
   "source": [
    "arr = np.array([[0,1,2,3],\n",
    "                [4,5,6,7],\n",
    "                [8,9,10,11]])\n",
    "\n",
    "print(arr[0:]) #0번째 행부터 출력\n",
    "print(\"-------------\")\n",
    "print(arr[0,0:2]) # 0번째 행중에 0~1까지 출력\n",
    "print(\"-----------\")\n",
    "print(arr[1:3,0:2])\n",
    "print(\"-----------\")\n",
    "print(arr[:2,:2])\n",
    "print(\"----------\")\n",
    "#행의 위치 변경\n",
    "print(arr[[2,1,0],:])"
   ]
  },
  {
   "cell_type": "markdown",
   "metadata": {},
   "source": [
    "# Numpy 자료형\n",
    "- b : 논리형\n",
    "- i : 정수 ex 8비트 2의8승까지 256까지 쓰겠다\n",
    "- u : 부호없는 정수 ex 양의 정수 \n",
    "- f : 부동소수점\n",
    "- c: 복소수\n",
    "- O: 객체\n",
    "- S : 바이트 문자열 es S24\n",
    "- U : 유니코드\n",
    "\n",
    "## Dtype 은 데이터 타입을 알아볼수있음 ,변경할 때도 사용\n",
    "### type(변수), 변수.dtype"
   ]
  },
  {
   "cell_type": "code",
   "execution_count": 37,
   "metadata": {},
   "outputs": [
    {
     "name": "stdout",
     "output_type": "stream",
     "text": [
      "int32\n",
      "float64\n",
      "float64\n"
     ]
    }
   ],
   "source": [
    "arr = np.array([1,2,3])\n",
    "print(arr.dtype) # 2의 32승 까지 쓸수있는 \n",
    "\n",
    "arr = np.array([1.0,2.0,3.0])\n",
    "print(arr.dtype)\n",
    "\n",
    "arr = np.array([1,2,3.0])\n",
    "print(arr.dtype)"
   ]
  },
  {
   "cell_type": "code",
   "execution_count": 39,
   "metadata": {},
   "outputs": [
    {
     "name": "stdout",
     "output_type": "stream",
     "text": [
      "float32\n",
      "3.0\n",
      "<U1\n",
      "12\n"
     ]
    }
   ],
   "source": [
    "arr = np.array([1,2,3],dtype = 'f')\n",
    "print(arr.dtype)\n",
    "print(arr[0]+arr[1])\n",
    "\n",
    "arr = np.array([1,2,3],dtype ='U')\n",
    "print(arr.dtype)\n",
    "print(arr[0]+arr[1])"
   ]
  },
  {
   "cell_type": "markdown",
   "metadata": {},
   "source": [
    "# 배열 생성하는 방법\n",
    "- np.zeros함수 0으로 채워주는 배열 생성 함수\n",
    "- 디폴트는 float이고  np.zeros(n, dtype = '형식')\n",
    "- np.zeros((a,b)) a행 b열 \n",
    "- np.ones() 다 1로 배열 만들어주는 함수\n",
    "- np.ones_like(np변수) np변수 배열을 다 1로 만들어주는 함수\n",
    "- np.empty 의미없는\n",
    "- np.arrange(n) arrange는 결과가 배열 range는 리스트로 결과\n",
    "- np.arrange(a,b,c) a부터 b까지 c증가하면서 배열만들기\n",
    "- np.linspace(a,b,c,) a부터 b까지  c로 나눈 수만큼 등분"
   ]
  },
  {
   "cell_type": "code",
   "execution_count": 49,
   "metadata": {},
   "outputs": [
    {
     "name": "stdout",
     "output_type": "stream",
     "text": [
      "[0. 0. 0. 0. 0.]\n",
      "<class 'numpy.ndarray'>\n",
      "float64\n",
      "-----------\n",
      "[0 0 0 0 0]\n",
      "int32\n",
      "--------------\n",
      "['' '' '' '' '']\n",
      "<U4\n",
      "[[0. 0. 0.]\n",
      " [0. 0. 0.]]\n",
      "------------\n",
      "[[[1. 1. 1. 1.]\n",
      "  [1. 1. 1. 1.]\n",
      "  [1. 1. 1. 1.]]\n",
      "\n",
      " [[1. 1. 1. 1.]\n",
      "  [1. 1. 1. 1.]\n",
      "  [1. 1. 1. 1.]]]\n",
      "-------------\n",
      "[[0. 0. 0.]\n",
      " [0. 0. 0.]]\n",
      "[[1. 1. 1.]\n",
      " [1. 1. 1.]]\n",
      "----------\n",
      "[[4.24399158e-314 8.48798317e-314 1.27319747e-313]\n",
      " [1.69759663e-313 2.12199579e-313 2.54639495e-313]\n",
      " [2.97079411e-313 3.39519327e-313 3.81959242e-313]\n",
      " [4.24399158e-313 4.66839074e-313 5.09278990e-313]]\n",
      "-----------\n",
      "[0 1 2 3 4 5 6 7 8 9]\n",
      "[ 3  5  7  9 11 13 15 17 19]\n",
      "-----------\n",
      "[  0.  25.  50.  75. 100.]\n"
     ]
    }
   ],
   "source": [
    "arr = np.zeros(5)\n",
    "print(arr)\n",
    "print(type(arr))\n",
    "print(arr.dtype)\n",
    "print(\"-----------\")\n",
    "arr = np.zeros(5, dtype = 'i')\n",
    "print(arr)\n",
    "print(arr.dtype)\n",
    "print('--------------')\n",
    "arr = np.zeros(5,dtype =\"U4\")\n",
    "print(arr)\n",
    "print(arr.dtype)\n",
    "arr[0] = 'abc'\n",
    "arr[1] = 'abcd'\n",
    "#arr[2] = 'abcde'  크기가 4개로 정해놔서\n",
    "arr = np.zeros((2,3))\n",
    "print(arr)\n",
    "print(\"------------\")\n",
    "arr = np.ones((2,3,4))\n",
    "print(arr)\n",
    "print(\"-------------\")\n",
    "arr1 = np.zeros((2,3))\n",
    "arr2 = np.ones_like(arr1)\n",
    "print(arr1)\n",
    "print(arr2)\n",
    "print(\"----------\")\n",
    "arr = np.empty((4,3))\n",
    "print(arr)\n",
    "print(\"-----------\")\n",
    "arr = np.arange(10)\n",
    "print(arr)\n",
    "print(np.arange(3,21,2))\n",
    "print(\"-----------\")\n",
    "arr = np.linspace(0,100,5)\n",
    "print(arr)"
   ]
  },
  {
   "cell_type": "markdown",
   "metadata": {},
   "source": [
    "# 전치연산(tanspose) 행과 열을 바꾸는 작업\n",
    "- 변수.T\n"
   ]
  },
  {
   "cell_type": "code",
   "execution_count": 52,
   "metadata": {},
   "outputs": [
    {
     "name": "stdout",
     "output_type": "stream",
     "text": [
      "[[1 2 3]\n",
      " [4 5 6]]\n",
      "[[1 4]\n",
      " [2 5]\n",
      " [3 6]]\n"
     ]
    }
   ],
   "source": [
    "arr = np.array([[1,2,3],[4,5,6]])\n",
    "print(arr)\n",
    "print(arr.T)"
   ]
  },
  {
   "cell_type": "markdown",
   "metadata": {},
   "source": [
    "# 배열의 크기 변형 : reshape(),flatten(),ravel()\n",
    "\n",
    "- .reshape(a,-1) a행에 맞춘 열의 개수를 세팅해라 \n",
    "- flatten() 1차원 행렬로 펼치기\n",
    "- ravel() 1차원 행렬로 펼치기"
   ]
  },
  {
   "cell_type": "code",
   "execution_count": 59,
   "metadata": {},
   "outputs": [
    {
     "name": "stdout",
     "output_type": "stream",
     "text": [
      "[ 0  1  2  3  4  5  6  7  8  9 10 11]\n",
      "(12,)\n",
      "-----------------\n",
      "[[ 0  1  2  3]\n",
      " [ 4  5  6  7]\n",
      " [ 8  9 10 11]]\n",
      "(3, 4)\n",
      "------------\n",
      "[[ 0  1  2  3]\n",
      " [ 4  5  6  7]\n",
      " [ 8  9 10 11]]\n",
      "(3, 4)\n",
      "[[ 0  1  2  3]\n",
      " [ 4  5  6  7]\n",
      " [ 8  9 10 11]]\n",
      "(3, 4)\n",
      "------------\n",
      "[[[ 0  1  2]\n",
      "  [ 3  4  5]]\n",
      "\n",
      " [[ 6  7  8]\n",
      "  [ 9 10 11]]]\n",
      "(2, 2, 3)\n",
      "[[[ 0  1  2]\n",
      "  [ 3  4  5]]\n",
      "\n",
      " [[ 6  7  8]\n",
      "  [ 9 10 11]]]\n",
      "(2, 2, 3)\n",
      "-------------\n",
      "[ 0  1  2  3  4  5  6  7  8  9 10 11]\n"
     ]
    }
   ],
   "source": [
    "arr = np.arange(12)\n",
    "print(arr)\n",
    "print(arr.shape)\n",
    "print(\"-----------------\")\n",
    "arr1 = arr.reshape(3,4)\n",
    "print(arr1)\n",
    "print(arr1.shape)\n",
    "print(\"------------\")\n",
    "arr2 = arr.reshape(3,-1)\n",
    "print(arr2)\n",
    "print(arr2.shape)\n",
    "\n",
    "arr2 = arr.reshape(-1,4)\n",
    "print(arr2)\n",
    "print(arr2.shape)\n",
    "print(\"------------\")\n",
    "arr3 = arr.reshape(2,2,3)\n",
    "print(arr3)\n",
    "print(arr3.shape)\n",
    "\n",
    "\n",
    "arr3  = arr.reshape(2,2,-1)\n",
    "print(arr3)\n",
    "print(arr3.shape)\n",
    "print(\"-------------\")\n",
    "print(arr3.flatten())"
   ]
  },
  {
   "cell_type": "markdown",
   "metadata": {},
   "source": [
    "# 배열 연결(병합): stack(),hstack(),vstack()\n",
    "# dstack(),title()\n",
    "\n",
    "- hstack : 행의수가 같은 두개 이상의 배열을 옆으로 연결하여 열의 수가 더많은 배열을 만든다. 연결할 배열은 하나의 리스트에 담아야한다.\n",
    "- dstack : 제3의축, 즉 행이나 열이 아닌 깊이방향으로 배열을 합친다. 가장 안쪽의 원소의 차원이 증가한다. 즉 가장 내부의 숫자 원소가 배열이 된다. "
   ]
  },
  {
   "cell_type": "code",
   "execution_count": 61,
   "metadata": {},
   "outputs": [
    {
     "name": "stdout",
     "output_type": "stream",
     "text": [
      "[[1. 1. 1. 1. 1.]\n",
      " [1. 1. 1. 1. 1.]]\n",
      "(2, 5)\n"
     ]
    }
   ],
   "source": [
    "arr1 = np.ones((2,3))\n",
    "arr2 = np.ones((2,2))\n",
    "\n",
    "arr3 = np.hstack([arr1,arr2])\n",
    "print(arr3)\n",
    "print(arr3.shape)"
   ]
  },
  {
   "cell_type": "markdown",
   "metadata": {},
   "source": [
    "# 면,행,열  행 열 면"
   ]
  },
  {
   "cell_type": "code",
   "execution_count": 64,
   "metadata": {
    "scrolled": true
   },
   "outputs": [
    {
     "name": "stdout",
     "output_type": "stream",
     "text": [
      "[[[1. 1. 1. 1.]\n",
      "  [1. 1. 1. 1.]\n",
      "  [1. 1. 1. 1.]]\n",
      "\n",
      " [[0. 0. 0. 0.]\n",
      "  [0. 0. 0. 0.]\n",
      "  [0. 0. 0. 0.]]]\n",
      "(2, 3, 4)\n",
      "--------------\n",
      "[[[1. 1. 1. 1.]\n",
      "  [1. 1. 1. 1.]\n",
      "  [1. 1. 1. 1.]]\n",
      "\n",
      " [[0. 0. 0. 0.]\n",
      "  [0. 0. 0. 0.]\n",
      "  [0. 0. 0. 0.]]]\n",
      "(2, 3, 4)\n",
      "--------------\n",
      "[[[1. 1. 1. 1.]\n",
      "  [0. 0. 0. 0.]]\n",
      "\n",
      " [[1. 1. 1. 1.]\n",
      "  [0. 0. 0. 0.]]\n",
      "\n",
      " [[1. 1. 1. 1.]\n",
      "  [0. 0. 0. 0.]]]\n",
      "(3, 2, 4)\n",
      "-------------\n",
      "[[[1. 0.]\n",
      "  [1. 0.]\n",
      "  [1. 0.]\n",
      "  [1. 0.]]\n",
      "\n",
      " [[1. 0.]\n",
      "  [1. 0.]\n",
      "  [1. 0.]\n",
      "  [1. 0.]]\n",
      "\n",
      " [[1. 0.]\n",
      "  [1. 0.]\n",
      "  [1. 0.]\n",
      "  [1. 0.]]]\n",
      "(3, 4, 2)\n"
     ]
    }
   ],
   "source": [
    "arr1 = np.ones((3,4))\n",
    "arr2 = np.zeros((3,4))\n",
    "\n",
    "arr3 = np.stack([arr1,arr2])\n",
    "print(arr3)\n",
    "print(arr3.shape)\n",
    "print(\"--------------\")\n",
    "\n",
    "arr3 = np.stack([arr1,arr2],axis=0)\n",
    "print(arr3)\n",
    "print(arr3.shape)\n",
    "\n",
    "print(\"--------------\")\n",
    "\n",
    "arr3 = np.stack([arr1,arr2],axis = 1)\n",
    "print(arr3)\n",
    "print(arr3.shape)\n",
    "\n",
    "print(\"-------------\")\n",
    "arr3 = np.stack([arr1,arr2],axis = 2)\n",
    "print(arr3)\n",
    "print(arr3.shape)\n"
   ]
  },
  {
   "cell_type": "markdown",
   "metadata": {},
   "source": [
    "# tile(변수,n) = 변수배열을 n번 반복하여 연결한다.\n",
    "# tile(변수, (a,b)) = 변수배열을 a행 b열 개수만큼 타일처럼 붙인다."
   ]
  },
  {
   "cell_type": "code",
   "execution_count": 65,
   "metadata": {},
   "outputs": [
    {
     "name": "stdout",
     "output_type": "stream",
     "text": [
      "[[0 1 2]\n",
      " [3 4 5]]\n",
      "--------------\n",
      "[[0 1 2 0 1 2]\n",
      " [3 4 5 3 4 5]]\n",
      "------------\n",
      "[[0 1 2 0 1 2]\n",
      " [3 4 5 3 4 5]\n",
      " [0 1 2 0 1 2]\n",
      " [3 4 5 3 4 5]\n",
      " [0 1 2 0 1 2]\n",
      " [3 4 5 3 4 5]]\n"
     ]
    }
   ],
   "source": [
    "# tile : 동일한 배열을 반복하여 연결한다.\n",
    "arr = np.array(([0,1,2],[3,4,5]))\n",
    "print(arr)\n",
    "print(\"--------------\")\n",
    "print(np.tile(arr,2))\n",
    "print(\"------------\")\n",
    "print(np.tile(arr,(3,2)))"
   ]
  },
  {
   "cell_type": "markdown",
   "metadata": {},
   "source": [
    "# 2차원 그리드 포인트 생성: meshgrid()\n",
    "\n",
    "# matplotlib.pylab 모듈 scatterplot 산포도"
   ]
  },
  {
   "cell_type": "code",
   "execution_count": 69,
   "metadata": {},
   "outputs": [
    {
     "name": "stdout",
     "output_type": "stream",
     "text": [
      "[0 1 2]\n",
      "[0 1 2 3 4]\n",
      "-----------------\n",
      "[[0 1 2]\n",
      " [0 1 2]\n",
      " [0 1 2]\n",
      " [0 1 2]\n",
      " [0 1 2]]\n",
      "================\n",
      "[[0 0 0]\n",
      " [1 1 1]\n",
      " [2 2 2]\n",
      " [3 3 3]\n",
      " [4 4 4]]\n"
     ]
    },
    {
     "data": {
      "text/plain": [
       "<matplotlib.collections.PathCollection at 0x19a495e75c8>"
      ]
     },
     "execution_count": 69,
     "metadata": {},
     "output_type": "execute_result"
    },
    {
     "data": {
      "image/png": "[encoded data removed]",
      "text/plain": [
       "<Figure size 432x288 with 1 Axes>"
      ]
     },
     "metadata": {
      "needs_background": "light"
     },
     "output_type": "display_data"
    }
   ],
   "source": [
    "# 2개의 1차원 배열을 구함 x축 y축\n",
    "x = np.arange(3) \n",
    "print(x)\n",
    "\n",
    "y = np.arange(5)\n",
    "print(y)\n",
    "\n",
    "print(\"-----------------\")\n",
    "\n",
    "X, Y = np.meshgrid(x,y)\n",
    "print(X)\n",
    "print(\"================\")\n",
    "print(Y)\n",
    "\n",
    "import matplotlib.pylab as pit\n",
    "pit.scatter(X,Y)"
   ]
  },
  {
   "cell_type": "markdown",
   "metadata": {},
   "source": [
    "# zip(*iterable)은 동일한 개수로 이루어진 자료형을 묶어 주는 역할을 하는 함수이다.\n",
    "->>> list(zip([1, 2, 3], [4, 5, 6]))\n",
    "- [(1, 4), (2, 5), (3, 6)]\n",
    "- >>> list(zip([1, 2, 3], [4, 5, 6], [7, 8, 9]))\n",
    "- [(1, 4, 7), (2, 5, 8), (3, 6, 9)]\n",
    "- >>> list(zip(\"abc\", \"def\"))\n",
    "- [('a', 'd'), ('b', 'e'), ('c', 'f')]\n"
   ]
  },
  {
   "cell_type": "markdown",
   "metadata": {},
   "source": [
    "# 브로드캐스팅(broadCasting)\n",
    "https://datascienceschool.net/view-notebook/464860bf5a5f4e139b05ccc473f1f15c/\n",
    "- 크기가 서로 다른 행렬(벡터)끼리 연산을 가능하게 하는 것 "
   ]
  },
  {
   "cell_type": "code",
   "execution_count": 70,
   "metadata": {},
   "outputs": [
    {
     "data": {
      "text/plain": [
       "array([[0, 1, 2],\n",
       "       [1, 2, 3],\n",
       "       [2, 3, 4],\n",
       "       [3, 4, 5],\n",
       "       [4, 5, 6]])"
      ]
     },
     "execution_count": 70,
     "metadata": {},
     "output_type": "execute_result"
    }
   ],
   "source": [
    "x = np.vstack([range(7)[i:i + 3] for i in range(5)])\n",
    "x\n",
    "#  range7 0 ~6 까지중에 i부터 i+3 까지 슬라이싱 하겠다\n",
    "#vstack  수직으로 백터를 만들겠다"
   ]
  },
  {
   "cell_type": "code",
   "execution_count": 72,
   "metadata": {},
   "outputs": [
    {
     "name": "stdout",
     "output_type": "stream",
     "text": [
      "[0, 1, 2, 3, 4]\n",
      "[[0], [1], [2], [3], [4]]\n",
      "[0, 1, 2, 3, 4]\n"
     ]
    }
   ],
   "source": [
    "print([i for i in range(5)])\n",
    "print([[i] for i in range(5)])\n",
    "print([range(7)[i] for i in range(5)])"
   ]
  },
  {
   "cell_type": "code",
   "execution_count": 77,
   "metadata": {},
   "outputs": [
    {
     "name": "stdout",
     "output_type": "stream",
     "text": [
      "[[0 1 2]\n",
      " [1 2 3]\n",
      " [2 3 4]\n",
      " [3 4 5]\n",
      " [4 5 6]]\n",
      "[[0]\n",
      " [1]\n",
      " [2]\n",
      " [3]\n",
      " [4]]\n",
      "[[ 0  1  2]\n",
      " [ 2  3  4]\n",
      " [ 4  5  6]\n",
      " [ 6  7  8]\n",
      " [ 8  9 10]]\n",
      "--------------\n",
      "[[0 2 4]\n",
      " [1 3 5]\n",
      " [2 4 6]\n",
      " [3 5 7]\n",
      " [4 6 8]]\n"
     ]
    }
   ],
   "source": [
    "x = np.vstack([range(7)[i:i + 3] for i in range(5)])\n",
    "print(x)\n",
    "y = np.arange(5)[: , np.newaxis] # 2차원으로 슬라이싱 하는것\n",
    "print(y)\n",
    "\n",
    "print(x+y)\n",
    "print('--------------')\n",
    "y = np.arange(3)\n",
    "print(x +y)"
   ]
  },
  {
   "cell_type": "markdown",
   "metadata": {},
   "source": [
    "# 차원 축소 연산\n",
    "- 행렬의 하나의 행에 있는 원소들을 하나의 데이터 집합으로 보고 그 집합의 평균을 구하면 각 행에 대해 하나의 숫자가 나오게 된다.\n",
    "# 각 행에 대해 하나의 숫자가 나온다.\n",
    "- 최대 / 최소 : min(), max(), argmin(), argmax()\n",
    "- 통계 : sum(), mean(), median() std, var()\n",
    "- 불리언 : all() , any()\n",
    "# arg는 위치를 반환한다. "
   ]
  },
  {
   "cell_type": "code",
   "execution_count": 78,
   "metadata": {},
   "outputs": [
    {
     "name": "stdout",
     "output_type": "stream",
     "text": [
      "0\n",
      "1\n"
     ]
    }
   ],
   "source": [
    "x = np.array([1,3,2])\n",
    "\n",
    "print(np.argmin(x))\n",
    "print(np.argmax(x))"
   ]
  },
  {
   "cell_type": "code",
   "execution_count": 79,
   "metadata": {},
   "outputs": [
    {
     "name": "stdout",
     "output_type": "stream",
     "text": [
      "True\n",
      "False\n"
     ]
    }
   ],
   "source": [
    "print(np.any([True,True,False]))\n",
    "print(np.all([True,True,False]))"
   ]
  },
  {
   "cell_type": "markdown",
   "metadata": {},
   "source": [
    "# np변수. sum() 싸그리 , axis = 0 열 axis =1 행합계"
   ]
  },
  {
   "cell_type": "code",
   "execution_count": 84,
   "metadata": {},
   "outputs": [
    {
     "name": "stdout",
     "output_type": "stream",
     "text": [
      "6\n",
      "[3 3]\n",
      "[2 4]\n"
     ]
    }
   ],
   "source": [
    "x = np.array([[1,1],\n",
    "              [2,2]])\n",
    "\n",
    "print(x.sum()) # 싸그리 더한것\n",
    "print(x.sum(axis = 0)) #열합계\n",
    "print(x.sum(axis = 1)) #행 합계"
   ]
  },
  {
   "cell_type": "markdown",
   "metadata": {},
   "source": [
    "# 기술통계\n",
    "\n",
    "- len()\n",
    "- sum(), mean(), median(), std(), var()\n",
    "- percentile() 4분위수"
   ]
  },
  {
   "cell_type": "code",
   "execution_count": 85,
   "metadata": {},
   "outputs": [
    {
     "name": "stdout",
     "output_type": "stream",
     "text": [
      "최소값 :  -24.0\n",
      "최대값 :  23.0\n",
      "1사분위:  0.0\n",
      "2사 분위 :  5.0\n",
      "3사 분위 :  10.0\n"
     ]
    }
   ],
   "source": [
    "x = np.array([18,   5,  10,  23,  19,  -8,  10,   0,   0,   5,   2,  15,   8,\n",
    "              2,   5,   4,  15,  -1,   4,  -7, -24,   7,   9,  -6,  23, -13])\n",
    "\n",
    "print(\"최소값 : \", np.percentile(x,0))\n",
    "print(\"최대값 : \",np.percentile(x,100))\n",
    "print(\"1사분위: \", np.percentile(x,25))\n",
    "print(\"2사 분위 : \", np.percentile(x,50))\n",
    "print(\"3사 분위 : \", np.percentile(x,75))"
   ]
  },
  {
   "cell_type": "markdown",
   "metadata": {},
   "source": [
    "# 정렬  np.sort(np변수) default 는 1 행으로 되있음\n",
    "\n"
   ]
  },
  {
   "cell_type": "code",
   "execution_count": 90,
   "metadata": {},
   "outputs": [
    {
     "name": "stdout",
     "output_type": "stream",
     "text": [
      "[[ 3  4  5  7]\n",
      " [ 1  9 11 12]\n",
      " [ 1  2 14 15]]\n",
      "[[ 3  4  5  7]\n",
      " [ 1  9 11 12]\n",
      " [ 1  2 14 15]]\n",
      "[[ 1  3  1  7]\n",
      " [ 2 12  5  9]\n",
      " [ 4 15 11 14]]\n",
      "[[ 4  3  5  7]\n",
      " [ 1 12 11  9]\n",
      " [ 2 15  1 14]]\n",
      "---------------------\n",
      "[[ 3  4  5  7]\n",
      " [ 1  9 11 12]\n",
      " [ 1  2 14 15]]\n"
     ]
    }
   ],
   "source": [
    "arr = np.array([[4,3,5,7],\n",
    "                [1,12,11,9],\n",
    "                [2,15,1,14]])\n",
    "print(np.sort(arr))\n",
    "print(np.sort(arr,axis = 1))\n",
    "print(np.sort(arr,axis = 0))\n",
    "print(arr)\n",
    "arr = np.sort(arr)\n",
    "print(\"---------------------\")\n",
    "arr = np.array([[4,3,5,7],\n",
    "                [1,12,11,9],\n",
    "              [2,15,1,14]])\n",
    "arr.sort()\n",
    "print(arr)"
   ]
  },
  {
   "cell_type": "markdown",
   "metadata": {},
   "source": [
    "# 오름차순으로 위치값들을 배열로 나타낸다.\n",
    "# argsort()"
   ]
  },
  {
   "cell_type": "code",
   "execution_count": 89,
   "metadata": {},
   "outputs": [
    {
     "name": "stdout",
     "output_type": "stream",
     "text": [
      "[2 3 1 0]\n"
     ]
    }
   ],
   "source": [
    "# argsort()\n",
    "arr = np.array([42,38,12,25])\n",
    "print(np.argsort(arr))"
   ]
  },
  {
   "cell_type": "markdown",
   "metadata": {},
   "source": [
    "# 난수 \n",
    "- rand() : 0 ~1사이의 균일분포 rand(n) n개의 크기를 가진 행렬 생성\n",
    "- randn() : 가우시안 표준 정규 분포 randn(n) n 개의 크기를 같는 행렬 기댓값이 0이고 표준편차가 1인 가우시안 표준 정규 분포를 따르는 난수생성\n",
    "- randn(a,b) : a행 b열 행렬을 생성\n",
    "- randint(low, high=None, size = None) : 균일 분포의 정수 난수\n",
    "- low와 high 사이의 숫자를 출력 size는 난수의 숫자 "
   ]
  },
  {
   "cell_type": "code",
   "execution_count": 91,
   "metadata": {},
   "outputs": [
    {
     "name": "stdout",
     "output_type": "stream",
     "text": [
      "[0.90706335 0.76354015 0.96954817 0.04465437 0.34425082 0.5710419\n",
      " 0.13649367 0.08230709 0.85736735 0.68188962]\n",
      "--------------\n",
      "[-1.38672308  1.21122137 -1.4332094   0.36119871  0.03260185  0.8226313\n",
      "  0.720041   -0.74635726  0.26217275  1.09094153]\n",
      "-------------\n",
      "[[-1.79166319  0.16506522  0.06743692  1.01446391 -0.80720589]\n",
      " [-1.05267658 -1.27478971  0.53829627  0.69315988 -0.53759905]\n",
      " [-1.30751441 -0.29829968 -2.54643612  0.58618842 -0.78169221]]\n"
     ]
    }
   ],
   "source": [
    "print(np.random.rand(10))\n",
    "print(\"--------------\")\n",
    "print(np.random.randn(10))\n",
    "print(\"-------------\")\n",
    "print(np.random.randn(3,5))"
   ]
  },
  {
   "cell_type": "code",
   "execution_count": 92,
   "metadata": {},
   "outputs": [
    {
     "name": "stdout",
     "output_type": "stream",
     "text": [
      "5\n",
      "19\n",
      "[16 12 15 12 12 14 12 13 12 18 16 17 16 12 14 13 11 13 13 14 11 18 15 13\n",
      " 17 12 13 13 16 16 18 11 15 17 12 14 13 12 13 19 18 14 12 12 18 18 11 16\n",
      " 13 11 18 17 11 18 18 17 15 12 12 19 15 15 11 11 12 19 19 16 18 15 15 16\n",
      " 16 13 17 19 17 18 12 14 14 14 12 14 16 12 17 12 11 15 19 14 18 19 11 15\n",
      " 18 13 14 11]\n",
      "[[12 11 16 11]\n",
      " [19 19 17 19]\n",
      " [11 15 15 17]]\n"
     ]
    }
   ],
   "source": [
    "print(np.random.randint(10))\n",
    "print(np.random.randint(11,20))\n",
    "print(np.random.randint(11,20,size = 100))\n",
    "print(np.random.randint(11,20, size = (3,4)))"
   ]
  },
  {
   "cell_type": "code",
   "execution_count": 94,
   "metadata": {},
   "outputs": [
    {
     "data": {
      "text/plain": [
       "array([0.54340494, 0.27836939, 0.42451759, 0.84477613, 0.00471886])"
      ]
     },
     "execution_count": 94,
     "metadata": {},
     "output_type": "execute_result"
    }
   ],
   "source": [
    "# 재현성 항상 같은값이 나옴\n",
    "np.random.seed(100)\n",
    "np.random.rand(5)"
   ]
  },
  {
   "cell_type": "markdown",
   "metadata": {},
   "source": [
    "# 데이터의 순서 바꾸기\n",
    "- .shuffle"
   ]
  },
  {
   "cell_type": "code",
   "execution_count": 95,
   "metadata": {},
   "outputs": [
    {
     "name": "stdout",
     "output_type": "stream",
     "text": [
      "[0 1 2 3 4 5 6 7 8 9]\n",
      "[8 4 3 0 1 6 7 9 5 2]\n"
     ]
    }
   ],
   "source": [
    "# 데이터의 순서 바꾸기 \n",
    "x = np.arange(10)\n",
    "print(x)\n",
    "\n",
    "np.random.shuffle(x)\n",
    "print(x)"
   ]
  },
  {
   "cell_type": "markdown",
   "metadata": {},
   "source": [
    "# 데이터 샘플링 \n",
    "- 이미 있는 데이터 집합에서 일부를 무작위로 선택하는것을 샘플링이라고 한다.\n",
    "- 샘플링에는 choice 명령을 사용한다.\n",
    "- numpy.random.choice(a, size = None, replace=True, p = None)"
   ]
  },
  {
   "cell_type": "code",
   "execution_count": 102,
   "metadata": {},
   "outputs": [
    {
     "data": {
      "text/plain": [
       "array([3, 3, 3, 3, 3, 0, 3, 2, 3, 2])"
      ]
     },
     "execution_count": 102,
     "metadata": {},
     "output_type": "execute_result"
    }
   ],
   "source": [
    "# 샘플링 : 복원(default), 비복원\n",
    "np.random.choice(5,5)\n",
    "np.random.choice(5,3,replace = True) # 3개만 서낵\n",
    "\n",
    "np.random.choice(5,5,replace = False)\n",
    "\n",
    "np.random.choice(5,10,p = [0.1,0,0.3,0.6,0])\n",
    "\n"
   ]
  },
  {
   "cell_type": "markdown",
   "metadata": {},
   "source": [
    "# 정수 데이터 카운팅 : unique(), bincount()\n",
    "## 변수=unique(np변수) np배열을 중복을 제거한 상태로 출력함\n",
    "\n",
    "\n",
    "- unique : 중복된 값을 제거하고 중복되지 않는 값의 리스트를 출력\n",
    "- return_counts : 인수를 True로 설정하면 각 값을 가진 데이터 갯수도 출력"
   ]
  },
  {
   "cell_type": "code",
   "execution_count": 105,
   "metadata": {},
   "outputs": [
    {
     "name": "stdout",
     "output_type": "stream",
     "text": [
      "5\n",
      "['a' 'b' 'c']\n"
     ]
    }
   ],
   "source": [
    "arr = np.array(['a','b','b','c','a'])\n",
    "\n",
    "print(len(arr))\n",
    "print(np.unique(arr))"
   ]
  },
  {
   "cell_type": "code",
   "execution_count": 106,
   "metadata": {},
   "outputs": [
    {
     "name": "stdout",
     "output_type": "stream",
     "text": [
      "['a' 'b' 'c']\n",
      "[2 2 1]\n"
     ]
    }
   ],
   "source": [
    "index, count = np.unique(arr, return_counts= True)\n",
    "print(index)\n",
    "print(count)"
   ]
  },
  {
   "cell_type": "code",
   "execution_count": 107,
   "metadata": {},
   "outputs": [
    {
     "name": "stdout",
     "output_type": "stream",
     "text": [
      "[0 2 3 1 0 0]\n"
     ]
    }
   ],
   "source": [
    "# bincount : 발생하지 않은 사건에 대해서도 카운팅 \n",
    "arr = np.array([1,1,2,2,2,3])\n",
    "\n",
    "print(np.bincount(arr, minlength = 6))"
   ]
  },
  {
   "cell_type": "code",
   "execution_count": null,
   "metadata": {},
   "outputs": [],
   "source": []
  }
 ],
 "metadata": {
  "kernelspec": {
   "display_name": "Python 3",
   "language": "python",
   "name": "python3"
  },
  "language_info": {
   "codemirror_mode": {
    "name": "ipython",
    "version": 3
   },
   "file_extension": ".py",
   "mimetype": "text/x-python",
   "name": "python",
   "nbconvert_exporter": "python",
   "pygments_lexer": "ipython3",
   "version": "3.7.6"
  }
 },
 "nbformat": 4,
 "nbformat_minor": 4
}
