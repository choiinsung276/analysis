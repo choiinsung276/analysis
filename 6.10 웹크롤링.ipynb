{
 "cells": [
  {
   "cell_type": "markdown",
   "metadata": {},
   "source": [
    "# XML \n",
    "\"\"\"\n",
    "*.XML(Extensible Markup Language)\n",
    "\n",
    "\t1)메타언어\n",
    "\t\tGML -> SGML -> XML\n",
    "\t2)데이터를 위한 언어\n",
    "\t3)DB\n",
    "\t4)데이터의 표준화 : 이기종 시스템간의 정보교환, 웹서비스, \n",
    "\t\t유비쿼터스, 사물인터넷 기타 등등...\n",
    "\t\n",
    "*. XML 문법\n",
    "    dfd, xml스키마 = 설계도 \n",
    "    dtd문법 단순\n",
    "    xml스키마 문법 복잡\n",
    "\n",
    "\tXML(.xml), DTD(.dtd), XML스키마(.xsd), XSL(XML Style Sheet Language, XSLT)\n",
    "\n",
    "\t(1) XML 문서 종류\n",
    "        1) Well-Formed XML Document(잘 짜여진 문서)\n",
    "\t\t2) Valid XML Document(유효한 문서)\n",
    "\t\t\t\n",
    "\t(2) XML 기본 구조 - prolog와 , element두개로\n",
    "\t\tProlog\t- 1개 (선언부 - 어떤 문서인가) <ldin\n",
    "\t\tElement\t- 1개 (태크로 이루어짐) <>, </>\n",
    "\t\tMisc\t- 0개 이상\n",
    "\n",
    "\t(3) Element 문법\n",
    "\t\t- 작성 규칙\n",
    "\t\t\ta) 모든 XML문서는 반드시 단 하나의 루트 엘리먼트를 가진다.\n",
    "\t\t\tb) 루트 엘리먼트는 여러 개의 자식 엘리먼트를 가질 수 있고 또 그 자식도 자신의 자식을 가질 수 있다.\n",
    "\t\t\tc) 시작태그와 끝태그는 반드시 짝을 이루어야 한다.\n",
    "\t\t\td) \"<\"는 값으로 사용 불가. \">\"는 사용할 수 있으나가급적 사용 금지\n",
    "\t\t\te) \"<\"와 \">\" 다음에 공백문자가 올 수 없으며 반드시 시작태그와 끝태그의 이름이 같아야 한다.\n",
    "\t\t\t\t\t\n",
    "\t\t- 종류\n",
    "\t\t\ta) 내용을 가지는 엘리먼트\n",
    "\t\t\tb) 내용이 없는 엘리먼트\n",
    "\n",
    "\t\t- 내용에 대한 종류\n",
    "\t\t\ta) 문자 데이터\n",
    "\t\t\tb) 자식 엘리먼트\n",
    "\t\t\tc) 엔티티 또는 문자 참조(&엔티티명;)\n",
    "\t\t\td) CDATA Section\n",
    "\t\t\te) 프로세싱 지시자\n",
    "\t\t\tf) 주석\n",
    "\t\t\tg) 공백 문자열\n",
    "\n",
    "\t(4) DTD \n",
    "\t\t- 종류\n",
    "\t\t\t내부 DTD\n",
    "\t\t\t외부 DTD\n",
    "\n",
    "\t\t- 구성 요소\n",
    "\t\t\t엘리먼트 선언\n",
    "\t\t\t속성(attribute) 선언\n",
    "\t\t\tEntity 선언\n",
    "\t\t\tNotation 선언\n",
    "\t\t\t프로세싱 지시자\n",
    "\t\t\t파라미터 엔티티 참조\n",
    "\t\t\t주석\n",
    "\t\t\t공백\n",
    "\t\t\tconditional section\n",
    "\t\t\t\t\n",
    "\t\t- 문서 유형 선언\n",
    "\t\t\t<!DOCTYPE 루트엘리먼트명 SYSTEM 또는 PUBLIC \"식별자\">\n",
    "\t\t\tDOCTYPE은 반드시 대문자\n",
    "\t\t\tSYSTEM은 특정 단체나 업체내부에서 사용되는 경우\n",
    "\t\t\tPUBLIC은 공개\n",
    "\t\t\t식별자는 다운로드 받을 수 있는 경로\n",
    "\t\t\tPUBLIC일 경우 추가된 식별자\n",
    "\t\t\t+-//DTD를 개발 및 유지보수 업체명//DTD명 및 버전번호//사용된 언어\n",
    "\n",
    "\t\t- 엘리먼트 선언\n",
    "\t\t\t<!ELEMENT 엘리먼트명 컨텐트 유형>\n",
    "\t\t\t컨텐트 유형\n",
    "\t\t\t\t#PCDATA\t: 내용으로 문자데이터만 갖는 엘리먼트\n",
    "\t\t\t\t자식 엘리먼트\n",
    "\t\t\t\t\t, : 작성 순서\n",
    "\t\t\t\t\t\t| : 선택\n",
    "\t\t\t\t\t\t? : 생략하거나 한번만 작성\n",
    "\t\t\t\t\t\t+ : 한번 이상\n",
    "\t\t\t\t\t\t* : 생략하거나 여러번 작성\n",
    "\t\t\t\t\t\t기호 없음 : 단 한번만 작성\n",
    "\t\t\t\t\tEMPTY\n",
    "\t\t\t\t\tMIXED : 문자데이터 또는 자식엘리먼트를 혼합형태\n",
    "\t\t\t\t\tANY\n",
    "\n",
    "\t\t\t- ATTRIBUTE 선언\n",
    "\t\t\t\t<!ATTLIST 엘리먼트명 속성명 속성유형 디폴트선언>\n",
    "\t\t\t\t속성 유형\n",
    "\t\t\t\t\tCDATA\t: 문자 데이터\n",
    "\t\t\t\t\tENUMERATION\t: dtd에 나열된 값 중 하나가 와야 함\n",
    "\t\t\t\t\tID : 유일한 값을 지정\n",
    "\t\t\t\t\tIDREF/IDREFS : ID값을 참조\n",
    "\t\t\t\t\tNMTOKEN/NMTOKENS : 이름 작성 규칙을 준수하는 \n",
    "\t\t\t\t\t\t데이터만 사용\n",
    "\t\t\t\t\tNOTATION : dtd에 명시적으로 선언된 notation만 사용가능\n",
    "\t\t\t\t\tENTITY : dtd에 명시적으로 선언된 entity만 사용 가능\n",
    "\t\t\n",
    "\t\t(5) 네임 스페이스\n",
    "\t\t\tCML\n",
    "\t\t\t-----\n",
    "\t\t\t<?xml version=1.0>\n",
    "\t\t\t<정보>\n",
    "\t\t\t\t<고유번호>111111-1111111</고유번호>\n",
    "\t\t\t\t<이름>홍길동</이름>\n",
    "\t\t\t\t...\n",
    "\t\t\t</정보>\n",
    "\t\t\t\n",
    "\t\t\tPML\n",
    "\t\t\t-----\n",
    "\t\t\t<?xml version=1.0>\n",
    "\t\t\t<정보>\n",
    "\t\t\t\t<고유번호>LC100</고유번호>\n",
    "\t\t\t\t<이름>캠코더</이름>\n",
    "\t\t\t\t...\n",
    "\t\t\t</정보>\n",
    "\t\t\t\n",
    "\t\t\tOML\n",
    "\t\t\t-----\n",
    "\t\t\t<?xml version=1.0>\n",
    "\t\t\t<주문정보 xmlns:고객=\"http://www.a.com/2017/Custom\"\n",
    "\t\t\t\txmlns:상품=\"http://www.a.com/2017/Product\"\n",
    "\t\t\t\txmlns=\"http://www.a.com/2017/Order\">\n",
    "\t\t\t\t<주문번호>1</주문번호>\n",
    "\t\t\t\t<주문수량>10</주문수량>\n",
    "\t\t\t\t<결제>\n",
    "\t\t\t\t\t<방법>현금</방법>\n",
    "\t\t\t\t\t<금액>10000000</금액>\n",
    "\t\t\t\t</결제>\n",
    "\t\t\t\t\n",
    "\t\t\t\t<고객:고유번호>111111-1111111</고객:고유번호>\n",
    "\t\t\t\t<고객:이름>홍길동</고객:이름>\n",
    "\t\t\t\t\n",
    "\t\t\t\t<상품:고유번호>LC100</상품:고유번호>\n",
    "\t\t\t\t<상품:이름>캠코더</상품:이름>\n",
    "\t\t\t\t...\n",
    "\t\t\t</주문정보>\n",
    "\"\"\""
   ]
  },
  {
   "cell_type": "markdown",
   "metadata": {},
   "source": [
    "tree = elemTree.fromstring()"
   ]
  },
  {
   "cell_type": "code",
   "execution_count": 5,
   "metadata": {},
   "outputs": [
    {
     "ename": "NameError",
     "evalue": "name 'xmlstr' is not defined",
     "output_type": "error",
     "traceback": [
      "\u001b[1;31m---------------------------------------------------------------------------\u001b[0m",
      "\u001b[1;31mNameError\u001b[0m                                 Traceback (most recent call last)",
      "\u001b[1;32m<ipython-input-5-002e7ae0d964>\u001b[0m in \u001b[0;36m<module>\u001b[1;34m\u001b[0m\n\u001b[0;32m      2\u001b[0m \u001b[1;33m\u001b[0m\u001b[0m\n\u001b[0;32m      3\u001b[0m \u001b[0mtree\u001b[0m \u001b[1;33m=\u001b[0m \u001b[0melemTree\u001b[0m\u001b[1;33m.\u001b[0m\u001b[0mparse\u001b[0m\u001b[1;33m(\u001b[0m\u001b[1;34m\"data/users.xml\"\u001b[0m\u001b[1;33m)\u001b[0m\u001b[1;33m\u001b[0m\u001b[1;33m\u001b[0m\u001b[0m\n\u001b[1;32m----> 4\u001b[1;33m \u001b[0mtree\u001b[0m \u001b[1;33m=\u001b[0m \u001b[0melemTree\u001b[0m\u001b[1;33m.\u001b[0m\u001b[0mfromstring\u001b[0m\u001b[1;33m(\u001b[0m\u001b[0mxmlstr\u001b[0m\u001b[1;33m)\u001b[0m\u001b[1;33m\u001b[0m\u001b[1;33m\u001b[0m\u001b[0m\n\u001b[0m",
      "\u001b[1;31mNameError\u001b[0m: name 'xmlstr' is not defined"
     ]
    }
   ],
   "source": [
    "import xml.etree.ElementTree as elemTree\n",
    "\n",
    "tree = elemTree.parse(\"data/users.xml\")\n",
    "tree"
   ]
  },
  {
   "cell_type": "code",
   "execution_count": 4,
   "metadata": {},
   "outputs": [
    {
     "data": {
      "text/plain": [
       "'\\nXML을 parsing하는 방법\\n----------------\\n1. xml이 파일로 존재하는 경우 : parse()\\n2. xml이 문자열 형태로 존재하는 경우 : fromstring()\\n'"
      ]
     },
     "execution_count": 4,
     "metadata": {},
     "output_type": "execute_result"
    }
   ],
   "source": [
    "\"\"\"\n",
    "XML을 parsing하는 방법\n",
    "----------------\n",
    "1. xml이 파일로 존재하는 경우 : parse()\n",
    "2. xml이 문자열 형태로 존재하는 경우 : fromstring()\n",
    "\"\"\""
   ]
  },
  {
   "cell_type": "code",
   "execution_count": 13,
   "metadata": {},
   "outputs": [
    {
     "name": "stdout",
     "output_type": "stream",
     "text": [
      "user\n",
      "{'grade': 'gold'}\n",
      "gold\n"
     ]
    }
   ],
   "source": [
    "xmlstr = '''<?xml version=\"1.0\" encoding=\"utf-8\" ?>\n",
    "<users>\n",
    "<user grade=\"gold\">\n",
    "            <name>Kim Cheol Soo</name>\n",
    "            <age>25</age>\n",
    "            <birthday>19940215</birthday>\n",
    "        </user>\n",
    "        <user grade=\"diamond\">\n",
    "            <name>Kim Yoo Mee</name>\n",
    "            <age>21</age>\n",
    "            <birthday>19980417</birthday>\n",
    "        </user>\n",
    "</users>\n",
    "'''\n",
    "\n",
    "tree = elemTree.fromstring(xmlstr)\n",
    "tree\n",
    "\n",
    "user = tree.find('user[1]')\n",
    "user\n",
    "dir(user) #get, attrib, tag\n",
    "print(user.tag) # .tag 태그명\n",
    "print(user.attrib)\n",
    "print(user.get(\"grade\"))"
   ]
  },
  {
   "cell_type": "code",
   "execution_count": 17,
   "metadata": {},
   "outputs": [
    {
     "name": "stdout",
     "output_type": "stream",
     "text": [
      "Kim Cheol Soo\n",
      "25\n",
      "25\n"
     ]
    }
   ],
   "source": [
    "name = user.find(\"name\")\n",
    "name\n",
    "print(name.text)\n",
    "age = user.find(\"age\")\n",
    "print(age.text)\n"
   ]
  },
  {
   "cell_type": "code",
   "execution_count": 20,
   "metadata": {},
   "outputs": [
    {
     "name": "stdout",
     "output_type": "stream",
     "text": [
      "{'grade': 'gold'}\n",
      "Kim Cheol Soo\n",
      "{'grade': 'diamond'}\n",
      "Kim Yoo Mee\n"
     ]
    }
   ],
   "source": [
    "# 여러 개의 태그를 한꺼번에 가져오기\n",
    "users = tree.findall(\"user\")\n",
    "users\n",
    "\n",
    "for user in users:\n",
    "    print(user.attrib)\n",
    "    print(user.find(\"name\").text)"
   ]
  },
  {
   "cell_type": "code",
   "execution_count": 24,
   "metadata": {},
   "outputs": [
    {
     "name": "stdout",
     "output_type": "stream",
     "text": [
      "users\n",
      "{}\n"
     ]
    }
   ],
   "source": [
    "tree = elemTree.parse(\"data/users.xml\")\n",
    "users = tree.getroot()\n",
    "print(users.tag)\n",
    "print(users.attrib)"
   ]
  },
  {
   "cell_type": "markdown",
   "metadata": {},
   "source": [
    "# JSON (JavaScript Object Notation)\n",
    "\n",
    "    dumps : 데이터를 저장할 때\n",
    "    loads : 데이터를 불러올 때"
   ]
  },
  {
   "cell_type": "code",
   "execution_count": 25,
   "metadata": {},
   "outputs": [],
   "source": [
    "import json\n"
   ]
  },
  {
   "cell_type": "code",
   "execution_count": 26,
   "metadata": {},
   "outputs": [
    {
     "name": "stdout",
     "output_type": "stream",
     "text": [
      "<class 'dict'>\n",
      "{'name': '홍길동', 'birth': '0524', 'age': 20}\n"
     ]
    }
   ],
   "source": [
    "j1 = {\"name\":\"홍길동\",\"birth\":\"0524\",\"age\":20}\n",
    "print(type(j1))\n",
    "print(j1)"
   ]
  },
  {
   "cell_type": "code",
   "execution_count": 27,
   "metadata": {},
   "outputs": [],
   "source": [
    "j2 = json.dumps(j1)"
   ]
  },
  {
   "cell_type": "code",
   "execution_count": 30,
   "metadata": {},
   "outputs": [
    {
     "name": "stdout",
     "output_type": "stream",
     "text": [
      "<class 'str'>\n"
     ]
    }
   ],
   "source": [
    "print(type(j2))"
   ]
  },
  {
   "cell_type": "code",
   "execution_count": 31,
   "metadata": {},
   "outputs": [
    {
     "data": {
      "text/plain": [
       "str"
      ]
     },
     "execution_count": 31,
     "metadata": {},
     "output_type": "execute_result"
    }
   ],
   "source": [
    "obj = \"\"\"\n",
    "{\n",
    "\"id\": \"0001\",\n",
    "\"type\": \"donut\",\n",
    "\"name\": \"Cake\",\n",
    "\"ppu\": 0.55,\n",
    "\"batters\":\n",
    "{\n",
    "\"batter\":\n",
    "[\n",
    "{ \"id\": \"1001\", \"type\": \"Regular\" },\n",
    "{ \"id\": \"1002\", \"type\": \"Chocolate\" },\n",
    "{ \"id\": \"1003\", \"type\": \"Blueberry\" },\n",
    "{ \"id\": \"1004\", \"type\": \"Devil's Food\" }\n",
    "]\n",
    "},\n",
    "\"topping\":\n",
    "[\n",
    "{ \"id\": \"5001\", \"type\": \"None\" },\n",
    "{ \"id\": \"5002\", \"type\": \"Glazed\" },\n",
    "{ \"id\": \"5005\", \"type\": \"Sugar\" },\n",
    "{ \"id\": \"5007\", \"type\": \"Powdered Sugar\" },\n",
    "{ \"id\": \"5006\", \"type\": \"Chocolate with Sprinkles\" },\n",
    "{ \"id\": \"5003\", \"type\": \"Chocolate\" },\n",
    "{ \"id\": \"5004\", \"type\": \"Maple\" }\n",
    "]\n",
    "}\n",
    "\"\"\"\n",
    "\n",
    "type(obj)"
   ]
  },
  {
   "cell_type": "code",
   "execution_count": 35,
   "metadata": {},
   "outputs": [
    {
     "data": {
      "text/plain": [
       "'1001'"
      ]
     },
     "execution_count": 35,
     "metadata": {},
     "output_type": "execute_result"
    }
   ],
   "source": [
    "result = json.loads(obj)\n",
    "type(result)\n",
    "result[\"id\"]\n",
    "result[\"batters\"][\"batter\"][0][\"id\"]"
   ]
  },
  {
   "cell_type": "code",
   "execution_count": 36,
   "metadata": {},
   "outputs": [],
   "source": [
    "from urllib.request import urlopen\n"
   ]
  },
  {
   "cell_type": "code",
   "execution_count": 38,
   "metadata": {},
   "outputs": [
    {
     "name": "stdout",
     "output_type": "stream",
     "text": [
      "<class 'http.client.HTTPResponse'>\n",
      "b'<!doctype html><html itemscope=\"\" itemtype=\"http://schema.org/WebPage\" lang=\"ko\"><head><meta content=\"text/html; charset=UTF-8\" http-equiv=\"Content-Type\"><meta content=\"/images/branding/googleg/1x/googleg_standard_color_128dp.png\" itemprop=\"image\"><title>Google</title><script nonce=\"K6MmVqz2UFVTOyO301BK1Q==\">(function(){window.google={kEI:\\'KkvgXvH7D432wAPPgJKoCQ\\',kEXPI:\\'0,18168,183955,3,4,32,1151585,5662,730,224,3656,1449,206,2415,789,10,1226,364,1118,381,155,421,35,93,113,383,246,5,960,394,196,211,755,530,2,95,1122,967,137,283,116,3,413,1122936,1197777,372,78,329040,1294,12383,4855,32692,15247,867,28684,9188,8384,4859,1361,9290,3023,4745,11033,1808,4020,978,2309,5622,5297,2054,920,873,1217,1710,1,1264,6431,7431,3874,3222,4517,1398,1379,919,2277,8,2796,1594,1278,2212,530,149,1103,840,517,1139,1,278,52,52,791,3467,109,203,1137,2,2063,606,789,1050,184,1777,520,1947,2229,93,328,1284,16,2927,2246,474,1339,748,1039,3227,2846,6,12354,4454,642,2450,2458,1226,1742,3655,1274,108,2854,553,908,2,941,2614,2397,1386,1510,2523,916,1133,842,1337,1098,3,576,970,865,372,3546,707,148,44,145,3312,2489,28,2219,4,58,5025,82,569,4,1528,17,358,566,1347,14,219,1019,271,874,395,2,8,41,211,1587,21,1522,765,139,503,41,297,185,732,10,42,1416,963,921,43,1299,213,499,641,574,16,2336,1,254,423,1587,87,3,585,19,148,741,236,1026,525,1196,230,69,94,499,6,239,90,423,899,329,36,42,328,232,621,82,464,21,9,730,24,258,500,439,2,832,2,175,272,2,33,241,245,1243,23,237,165,526,398,2,1,51,38,389,21,86,95,568,218,2,5803306,1805894,6996022,549,333,444,1,2,80,1,900,896,1,8,1,2,2551,1,748,141,59,736,563,1,4265,1,1,1,1,137,1,879,9,305,2514,106,26,2,7,1,2,1,3389619,20572125,42,2682691\\',kBL:\\'P2-H\\'};google.sn=\\'webhp\\';google.kHL=\\'ko\\';})();(function(){google.lc=[];google.li=0;google.getEI=function(a){for(var c;a&&(!a.getAttribute||!(c=a.getAttribute(\"eid\")));)a=a.parentNode;return c||google.kEI};google.getLEI=function(a){for(var c=null;a&&(!a.getAttribute||!(c=a.getAttribute(\"leid\")));)a=a.parentNode;return c};google.ml=function(){return null};google.time=function(){return Date.now()};google.log=function(a,c,b,d,g){if(b=google.logUrl(a,c,b,d,g)){a=new Image;var e=google.lc,f=google.li;e[f]=a;a.onerror=a.onload=a.onabort=function(){delete e[f]};google.vel&&google.vel.lu&&google.vel.lu(b);a.src=b;google.li=f+1}};google.logUrl=function(a,c,b,d,g){var e=\"\",f=google.ls||\"\";b||-1!=c.search(\"&ei=\")||(e=\"&ei=\"+google.getEI(d),-1==c.search(\"&lei=\")&&(d=google.getLEI(d))&&(e+=\"&lei=\"+d));d=\"\";!b&&google.cshid&&-1==c.search(\"&cshid=\")&&\"slh\"!=a&&(d=\"&cshid=\"+google.cshid);b=b||\"/\"+(g||\"gen_204\")+\"?atyp=i&ct=\"+a+\"&cad=\"+c+e+f+\"&zx=\"+google.time()+d;/^http:/i.test(b)&&\"https:\"==window.location.protocol&&(google.ml(Error(\"a\"),!1,{src:b,glmm:1}),b=\"\");return b};}).call(this);(function(){google.y={};google.x=function(a,b){if(a)var c=a.id;else{do c=Math.random();while(google.y[c])}google.y[c]=[a,b];return!1};google.lm=[];google.plm=function(a){google.lm.push.apply(google.lm,a)};google.lq=[];google.load=function(a,b,c){google.lq.push([[a],b,c])};google.loadAll=function(a,b){google.lq.push([a,b])};}).call(this);google.f={};(function(){\\ndocument.documentElement.addEventListener(\"submit\",function(b){var a;if(a=b.target){var c=a.getAttribute(\"data-submitfalse\");a=\"1\"==c||\"q\"==c&&!a.elements.q.value?!0:!1}else a=!1;a&&(b.preventDefault(),b.stopPropagation())},!0);document.documentElement.addEventListener(\"click\",function(b){var a;a:{for(a=b.target;a&&a!=document.documentElement;a=a.parentElement)if(\"A\"==a.tagName){a=\"1\"==a.getAttribute(\"data-nohref\");break a}a=!1}a&&b.preventDefault()},!0);}).call(this);\\nvar a=window.location,b=a.href.indexOf(\"#\");if(0<=b){var c=a.href.substring(b+1);/(^|&)q=/.test(c)&&-1==c.indexOf(\"#\")&&a.replace(\"/search?\"+c.replace(/(^|&)fp=[^&]*/g,\"\")+\"&cad=h\")};</script><style>#gbar,#guser{font-size:13px;padding-top:1px !important;}#gbar{height:22px}#guser{padding-bottom:7px !important;text-align:right}.gbh,.gbd{border-top:1px solid #c9d7f1;font-size:1px}.gbh{height:0;position:absolute;top:24px;width:100%}@media all{.gb1{height:22px;margin-right:.5em;vertical-align:top}#gbar{float:left}}a.gb1,a.gb4{text-decoration:underline !important}a.gb1,a.gb4{color:#00c !important}.gbi .gb4{color:#dd8e27 !important}.gbf .gb4{color:#900 !important}\\n</style><style>body,td,a,p,.h{font-family:&#44404;&#47548;,&#46027;&#50880;,arial,sans-serif}.ko{font-size:9pt}body{margin:0;overflow-y:scroll}#gog{padding:3px 8px 0}td{line-height:.8em}.gac_m td{line-height:17px}form{margin-bottom:20px}.h{color:#36c}.q{color:#00c}.ts td{padding:0}.ts{border-collapse:collapse}em{font-weight:bold;font-style:normal}.lst{height:25px;width:496px}.gsfi,.lst{font:18px arial,sans-serif}.gsfs{font:17px arial,sans-serif}.ds{display:inline-box;display:inline-block;margin:3px 0 4px;margin-left:4px}input{font-family:inherit}body{background:#fff;color:#000}a{color:#11c;text-decoration:none}a:hover,a:active{text-decoration:underline}.fl a{color:#36c}a:visited{color:#551a8b}.sblc{padding-top:5px}.sblc a{display:block;margin:2px 0;margin-left:13px;font-size:11px}.lsbb{background:#eee;border:solid 1px;border-color:#ccc #999 #999 #ccc;height:30px}.lsbb{display:block}.ftl,#fll a{display:inline-block;margin:0 12px}.lsb{background:url(/images/nav_logo229.png) 0 -261px repeat-x;border:none;color:#000;cursor:pointer;height:30px;margin:0;outline:0;font:15px arial,sans-serif;vertical-align:top}.lsb:active{background:#ccc}.lst:focus{outline:none}.tiah{width:458px}</style><script nonce=\"K6MmVqz2UFVTOyO301BK1Q==\"></script></head><body bgcolor=\"#fff\"><script nonce=\"K6MmVqz2UFVTOyO301BK1Q==\">(function(){var src=\\'/images/nav_logo229.png\\';var iesg=false;document.body.onload = function(){window.n && window.n();if (document.images){new Image().src=src;}\\nif (!iesg){document.f&&document.f.q.focus();document.gbqf&&document.gbqf.q.focus();}\\n}\\n})();</script><div id=\"mngb\"> <div id=gbar><nobr><b class=gb1>&#44160;&#49353;</b> <a class=gb1 href=\"http://www.google.co.kr/imghp?hl=ko&tab=wi\">&#51060;&#48120;&#51648;</a> <a class=gb1 href=\"http://maps.google.co.kr/maps?hl=ko&tab=wl\">&#51648;&#46020;</a> <a class=gb1 href=\"https://play.google.com/?hl=ko&tab=w8\">Play</a> <a class=gb1 href=\"http://www.youtube.com/?gl=KR&tab=w1\">YouTube</a> <a class=gb1 href=\"http://news.google.co.kr/nwshp?hl=ko&tab=wn\">&#45684;&#49828;</a> <a class=gb1 href=\"https://mail.google.com/mail/?tab=wm\">Gmail</a> <a class=gb1 href=\"https://drive.google.com/?tab=wo\">&#46300;&#46972;&#51060;&#48652;</a> <a class=gb1 style=\"text-decoration:none\" href=\"https://www.google.co.kr/intl/ko/about/products?tab=wh\"><u>&#45908;&#48372;&#44592;</u> &raquo;</a></nobr></div><div id=guser width=100%><nobr><span id=gbn class=gbi></span><span id=gbf class=gbf></span><span id=gbe></span><a href=\"http://www.google.co.kr/history/optout?hl=ko\" class=gb4>&#50937; &#44592;&#47197;</a> | <a  href=\"/preferences?hl=ko\" class=gb4>&#49444;&#51221;</a> | <a target=_top id=gb_70 href=\"https://accounts.google.com/ServiceLogin?hl=ko&passive=true&continue=http://www.google.com/\" class=gb4>&#47196;&#44536;&#51064;</a></nobr></div><div class=gbh style=left:0></div><div class=gbh style=right:0></div> </div><center><br clear=\"all\" id=\"lgpd\"><div id=\"lga\"><img alt=\"Google\" height=\"92\" src=\"/images/branding/googlelogo/1x/googlelogo_white_background_color_272x92dp.png\" style=\"padding:28px 0 14px\" width=\"272\" id=\"hplogo\"><br><br></div><form action=\"/search\" name=\"f\"><table cellpadding=\"0\" cellspacing=\"0\"><tr valign=\"top\"><td width=\"25%\">&nbsp;</td><td align=\"center\" nowrap=\"\"><input name=\"ie\" value=\"ISO-8859-1\" type=\"hidden\"><input value=\"ko\" name=\"hl\" type=\"hidden\"><input name=\"source\" type=\"hidden\" value=\"hp\"><input name=\"biw\" type=\"hidden\"><input name=\"bih\" type=\"hidden\"><div class=\"ds\" style=\"height:32px;margin:4px 0\"><div style=\"position:relative;zoom:1\"><input class=\"lst tiah\" style=\"margin:0;padding:5px 8px 0 6px;vertical-align:top;color:#000;padding-right:38px\" autocomplete=\"off\" value=\"\" title=\"Google &#44160;&#49353;\" maxlength=\"2048\" name=\"q\" size=\"57\"><img src=\"/textinputassistant/tia.png\" style=\"position:absolute;cursor:pointer;right:5px;top:4px;z-index:300\" data-script-url=\"/textinputassistant/11/ko_tia.js\" id=\"tsuid1\" alt=\"\" height=\"23\" width=\"27\"><script nonce=\"K6MmVqz2UFVTOyO301BK1Q==\">(function(){var id=\\'tsuid1\\';document.getElementById(id).onclick = function(){var s = document.createElement(\\'script\\');s.src = this.getAttribute(\\'data-script-url\\');(document.getElementById(\\'xjsc\\')||document.body).appendChild(s);};})();</script></div></div><br style=\"line-height:0\"><span class=\"ds\"><span class=\"lsbb\"><input class=\"lsb\" value=\"Google &#44160;&#49353;\" name=\"btnG\" type=\"submit\"></span></span><span class=\"ds\"><span class=\"lsbb\"><input class=\"lsb\" id=\"tsuid2\" value=\"I&#8217;m Feeling Lucky\" name=\"btnI\" type=\"submit\"><script nonce=\"K6MmVqz2UFVTOyO301BK1Q==\">(function(){var id=\\'tsuid2\\';document.getElementById(id).onclick = function(){if (this.form.q.value){this.checked = 1;if (this.form.iflsig)this.form.iflsig.disabled = false;}\\nelse top.location=\\'/doodles/\\';};})();</script><input value=\"AINFCbYAAAAAXuBZOhXKCNm9sYcbjSzf_yV0RZ8cSI8F\" name=\"iflsig\" type=\"hidden\"></span></span></td><td class=\"fl sblc\" align=\"left\" nowrap=\"\" width=\"25%\"><a href=\"/advanced_search?hl=ko&amp;authuser=0\">&#44256;&#44553;&#44160;&#49353;</a></td></tr></table><input id=\"gbv\" name=\"gbv\" type=\"hidden\" value=\"1\"><script nonce=\"K6MmVqz2UFVTOyO301BK1Q==\">(function(){var a,b=\"1\";if(document&&document.getElementById)if(\"undefined\"!=typeof XMLHttpRequest)b=\"2\";else if(\"undefined\"!=typeof ActiveXObject){var c,d,e=[\"MSXML2.XMLHTTP.6.0\",\"MSXML2.XMLHTTP.3.0\",\"MSXML2.XMLHTTP\",\"Microsoft.XMLHTTP\"];for(c=0;d=e[c++];)try{new ActiveXObject(d),b=\"2\"}catch(h){}}a=b;if(\"2\"==a&&-1==location.search.indexOf(\"&gbv=2\")){var f=google.gbvu,g=document.getElementById(\"gbv\");g&&(g.value=a);f&&window.setTimeout(function(){location.href=f},0)};}).call(this);</script></form><div id=\"gac_scont\"></div><div style=\"font-size:83%;min-height:3.5em\"><br></div><span id=\"footer\"><div style=\"font-size:10pt\"><div style=\"margin:19px auto;text-align:center\" id=\"fll\"><a href=\"/intl/ko/ads/\">&#44305;&#44256; &#54532;&#47196;&#44536;&#47016;</a><a href=\"http://www.google.co.kr/intl/ko/services/\">&#48708;&#51592;&#45768;&#49828; &#49556;&#47336;&#49496;</a><a href=\"/intl/ko/about.html\">Google &#51221;&#48372;</a><a href=\"http://www.google.com/setprefdomain?prefdom=KR&amp;prev=http://www.google.co.kr/&amp;sig=K_8UpGNsd-RGiobx0QDzgtHU2ty5k%3D\">Google.co.kr</a></div></div><p style=\"font-size:8pt;color:#767676\">&copy; 2020 - <a href=\"/intl/ko/policies/privacy/\">&#44060;&#51064;&#51221;&#48372;&#52376;&#47532;&#48169;&#52840;</a> - <a href=\"/intl/ko/policies/terms/\">&#50557;&#44288;</a></p></span></center><script nonce=\"K6MmVqz2UFVTOyO301BK1Q==\">(function(){window.google.cdo={height:0,width:0};(function(){var a=window.innerWidth,b=window.innerHeight;if(!a||!b){var c=window.document,d=\"CSS1Compat\"==c.compatMode?c.documentElement:c.body;a=d.clientWidth;b=d.clientHeight}a&&b&&(a!=google.cdo.width||b!=google.cdo.height)&&google.log(\"\",\"\",\"/client_204?&atyp=i&biw=\"+a+\"&bih=\"+b+\"&ei=\"+google.kEI);}).call(this);})();(function(){var u=\\'/xjs/_/js/k\\\\x3dxjs.hp.en.6yMITTwHK7M.O/m\\\\x3dsb_he,d/am\\\\x3dAC8ENgc/d\\\\x3d1/rs\\\\x3dACT90oE_O2agsXVcszmRe8Sr3BTYA7z1LQ\\';\\nsetTimeout(function(){var b=document;var a=\"SCRIPT\";\"application/xhtml+xml\"===b.contentType&&(a=a.toLowerCase());a=b.createElement(a);a.src=u;google.timers&&google.timers.load&&google.tick&&google.tick(\"load\",\"xjsls\");document.body.appendChild(a)},0);})();(function(){window.google.xjsu=\\'/xjs/_/js/k\\\\x3dxjs.hp.en.6yMITTwHK7M.O/m\\\\x3dsb_he,d/am\\\\x3dAC8ENgc/d\\\\x3d1/rs\\\\x3dACT90oE_O2agsXVcszmRe8Sr3BTYA7z1LQ\\';})();function _DumpException(e){throw e;}\\nfunction _F_installCss(c){}\\n(function(){google.jl={dw:false,em:[],emw:false,lls:\\'default\\',pdt:0,snet:true,uwp:true};})();(function(){var pmc=\\'{\\\\x22d\\\\x22:{},\\\\x22sb_he\\\\x22:{\\\\x22agen\\\\x22:true,\\\\x22cgen\\\\x22:true,\\\\x22client\\\\x22:\\\\x22heirloom-hp\\\\x22,\\\\x22dh\\\\x22:true,\\\\x22dhqt\\\\x22:true,\\\\x22ds\\\\x22:\\\\x22\\\\x22,\\\\x22ffql\\\\x22:\\\\x22ko\\\\x22,\\\\x22fl\\\\x22:true,\\\\x22host\\\\x22:\\\\x22google.com\\\\x22,\\\\x22isbh\\\\x22:28,\\\\x22jsonp\\\\x22:true,\\\\x22msgs\\\\x22:{\\\\x22cibl\\\\x22:\\\\x22&#44160;&#49353;&#50612; &#51648;&#50864;&#44592;\\\\x22,\\\\x22dym\\\\x22:\\\\x22&#51060;&#44163;&#51012; &#52286;&#51004;&#49512;&#45208;&#50836;?\\\\x22,\\\\x22lcky\\\\x22:\\\\x22I&#8217;m Feeling Lucky\\\\x22,\\\\x22lml\\\\x22:\\\\x22&#51088;&#49464;&#55176; &#50508;&#50500;&#48372;&#44592;\\\\x22,\\\\x22oskt\\\\x22:\\\\x22&#51077;&#47141; &#46020;&#44396;\\\\x22,\\\\x22psrc\\\\x22:\\\\x22&#44160;&#49353;&#50612;&#44032; \\\\\\\\u003Ca href\\\\x3d\\\\\\\\\\\\x22/history\\\\\\\\\\\\x22\\\\\\\\u003E&#50937; &#44592;&#47197;\\\\\\\\u003C/a\\\\\\\\u003E&#50640;&#49436; &#49325;&#51228;&#46104;&#50632;&#49845;&#45768;&#45796;.\\\\x22,\\\\x22psrl\\\\x22:\\\\x22&#49325;&#51228;\\\\x22,\\\\x22sbit\\\\x22:\\\\x22&#51060;&#48120;&#51648;&#47196; &#44160;&#49353;\\\\x22,\\\\x22srch\\\\x22:\\\\x22Google &#44160;&#49353;\\\\x22},\\\\x22ovr\\\\x22:{},\\\\x22pq\\\\x22:\\\\x22\\\\x22,\\\\x22refpd\\\\x22:true,\\\\x22refspre\\\\x22:true,\\\\x22rfs\\\\x22:[],\\\\x22sbpl\\\\x22:16,\\\\x22sbpr\\\\x22:16,\\\\x22scd\\\\x22:10,\\\\x22stok\\\\x22:\\\\x22spQsapDcUF_2uZ0wnAwynvOh8YM\\\\x22,\\\\x22uhde\\\\x22:false}}\\';google.pmc=JSON.parse(pmc);})();</script>        </body></html>'\n"
     ]
    }
   ],
   "source": [
    "html = urlopen(\"http://google.com\")\n",
    "print(type(html))\n",
    "print(html.read())"
   ]
  },
  {
   "cell_type": "code",
   "execution_count": 39,
   "metadata": {},
   "outputs": [
    {
     "name": "stdout",
     "output_type": "stream",
     "text": [
      "URL 에러입니다.:<urlopen error [Errno 11001] getaddrinfo failed>\n"
     ]
    }
   ],
   "source": [
    "from urllib.error import HTTPError, URLError\n",
    "\n",
    "try : \n",
    "    html = urlopen(\"http://aaaaaaasad.com\")\n",
    "except HTTPError as err:\n",
    "    print(\"Http 에러입니다.:\" +str(err))\n",
    "except URLError as err:\n",
    "    print(\"URL 에러입니다.:\" +str(err))\n",
    "else:\n",
    "    print(html.read())"
   ]
  },
  {
   "cell_type": "markdown",
   "metadata": {},
   "source": [
    "# urlretrieve('이미지 주소복사', '저장할 경로와 파일이름')"
   ]
  },
  {
   "cell_type": "code",
   "execution_count": 40,
   "metadata": {},
   "outputs": [
    {
     "name": "stdout",
     "output_type": "stream",
     "text": [
      "저장되었습니다.\n"
     ]
    }
   ],
   "source": [
    "from urllib.request import urlretrieve\n",
    "\n",
    "# 이미지 다운로드\n",
    "from urllib.request import urlretrieve\n",
    "\n",
    "urlretrieve('https://t1.daumcdn.net/daumtop_chanel/op/20170315064553027.png', 'data/daum.png')\n",
    "print('저장되었습니다.')"
   ]
  },
  {
   "cell_type": "markdown",
   "metadata": {},
   "source": [
    "# urlopen은 이미지를 메모리에 저장함 그래서 \n",
    "# f.open이용하여 저장하여야함"
   ]
  },
  {
   "cell_type": "code",
   "execution_count": 42,
   "metadata": {},
   "outputs": [
    {
     "name": "stdout",
     "output_type": "stream",
     "text": [
      "저장되었습니다.\n"
     ]
    }
   ],
   "source": [
    "img = urlopen(\"https://www.google.com/images/branding/googlelogo/1x/googlelogo_color_272x92dp.png\")\n",
    "img=img.read()\n",
    "f = open(\"data/google.png\",\"wb\")\n",
    "f.write(img)\n",
    "f.close()\n",
    "print(\"저장되었습니다.\")"
   ]
  },
  {
   "cell_type": "markdown",
   "metadata": {},
   "source": [
    "# 맨마지막 ?는 서버에 변수명과 값을 전달하는것"
   ]
  },
  {
   "cell_type": "code",
   "execution_count": 46,
   "metadata": {},
   "outputs": [
    {
     "data": {
      "text/plain": [
       "'http://www.weather.go.kr/weather/forecast/mid-term-rss3.jsp?stnld=109'"
      ]
     },
     "execution_count": 46,
     "metadata": {},
     "output_type": "execute_result"
    }
   ],
   "source": [
    "import urllib.parse\n",
    "\n",
    "api = \"http://www.weather.go.kr/weather/forecast/mid-term-rss3.jsp\"\n",
    "value = {\"stnld\":109} #'stnld=109'\n",
    "\n",
    "params =  urllib.parse.urlencode(value)\n",
    "params\n",
    "\n",
    "url = api+\"?\" +params\n",
    "url\n",
    "\n",
    "data = urlopen(url).read()\n",
    "data = data.decode(\"utf-8\")\n",
    "print(data)"
   ]
  },
  {
   "cell_type": "code",
   "execution_count": 55,
   "metadata": {},
   "outputs": [],
   "source": [
    "from bs4 import BeautifulSoup"
   ]
  },
  {
   "cell_type": "code",
   "execution_count": 56,
   "metadata": {},
   "outputs": [
    {
     "name": "stdout",
     "output_type": "stream",
     "text": [
      "<!DOCTYPE html>\n",
      "<html>\n",
      " <head>\n",
      "  <title>\n",
      "   Very Simple HTML Code by PinkWink\n",
      "  </title>\n",
      " </head>\n",
      " <body>\n",
      "  <div>\n",
      "   <p class=\"inner-text first-item\" id=\"first\">\n",
      "    Happy PinkWink.\n",
      "    <a href=\"http://www.pinkwink.kr\" id=\"pw-link\">\n",
      "     PinkWink\n",
      "    </a>\n",
      "   </p>\n",
      "   <p class=\"inner-text second-item\">\n",
      "    Happy Data Science.\n",
      "    <a href=\"https://www.python.org\" id=\"py-link\">\n",
      "     Python\n",
      "    </a>\n",
      "   </p>\n",
      "  </div>\n",
      "  <p class=\"outer-text first-item\" id=\"second\">\n",
      "   <b>\n",
      "    Data Science is funny.\n",
      "   </b>\n",
      "  </p>\n",
      "  <p class=\"outer-text\">\n",
      "   <b>\n",
      "    All I need is Love.\n",
      "   </b>\n",
      "  </p>\n",
      " </body>\n",
      "</html>\n"
     ]
    }
   ],
   "source": [
    "page = open(\"data/test_first.html\").read()\n",
    "soup = BeautifulSoup(page,'html.parser')\n",
    "print(soup.prettify()) #들여쓰기 옵션 "
   ]
  },
  {
   "cell_type": "code",
   "execution_count": 57,
   "metadata": {},
   "outputs": [
    {
     "data": {
      "text/plain": [
       "['html',\n",
       " '\\n',\n",
       " <html><head>\n",
       " <title>Very Simple HTML Code by PinkWink</title>\n",
       " </head>\n",
       " <body>\n",
       " <div>\n",
       " <p class=\"inner-text first-item\" id=\"first\">\n",
       "                 Happy PinkWink.\n",
       "                 <a href=\"http://www.pinkwink.kr\" id=\"pw-link\">PinkWink</a>\n",
       " </p>\n",
       " <p class=\"inner-text second-item\">\n",
       "                 Happy Data Science.\n",
       "                 <a href=\"https://www.python.org\" id=\"py-link\">Python</a>\n",
       " </p>\n",
       " </div>\n",
       " <p class=\"outer-text first-item\" id=\"second\">\n",
       " <b>\n",
       "                 Data Science is funny.\n",
       "             </b>\n",
       " </p>\n",
       " <p class=\"outer-text\">\n",
       " <b>\n",
       "                 All I need is Love.\n",
       "             </b>\n",
       " </p>\n",
       " </body>\n",
       " </html>]"
      ]
     },
     "execution_count": 57,
     "metadata": {},
     "output_type": "execute_result"
    }
   ],
   "source": [
    "# 한단계 아래에서 포함된 태그들을 알고싶으면 children이라는 속성사용\n",
    "list(soup.children)"
   ]
  },
  {
   "cell_type": "code",
   "execution_count": 59,
   "metadata": {},
   "outputs": [
    {
     "data": {
      "text/plain": [
       "<html><head>\n",
       "<title>Very Simple HTML Code by PinkWink</title>\n",
       "</head>\n",
       "<body>\n",
       "<div>\n",
       "<p class=\"inner-text first-item\" id=\"first\">\n",
       "                Happy PinkWink.\n",
       "                <a href=\"http://www.pinkwink.kr\" id=\"pw-link\">PinkWink</a>\n",
       "</p>\n",
       "<p class=\"inner-text second-item\">\n",
       "                Happy Data Science.\n",
       "                <a href=\"https://www.python.org\" id=\"py-link\">Python</a>\n",
       "</p>\n",
       "</div>\n",
       "<p class=\"outer-text first-item\" id=\"second\">\n",
       "<b>\n",
       "                Data Science is funny.\n",
       "            </b>\n",
       "</p>\n",
       "<p class=\"outer-text\">\n",
       "<b>\n",
       "                All I need is Love.\n",
       "            </b>\n",
       "</p>\n",
       "</body>\n",
       "</html>"
      ]
     },
     "execution_count": 59,
     "metadata": {},
     "output_type": "execute_result"
    }
   ],
   "source": [
    "html = list(soup.children)[2]\n",
    "html"
   ]
  },
  {
   "cell_type": "code",
   "execution_count": 60,
   "metadata": {},
   "outputs": [
    {
     "data": {
      "text/plain": [
       "[<head>\n",
       " <title>Very Simple HTML Code by PinkWink</title>\n",
       " </head>,\n",
       " '\\n',\n",
       " <body>\n",
       " <div>\n",
       " <p class=\"inner-text first-item\" id=\"first\">\n",
       "                 Happy PinkWink.\n",
       "                 <a href=\"http://www.pinkwink.kr\" id=\"pw-link\">PinkWink</a>\n",
       " </p>\n",
       " <p class=\"inner-text second-item\">\n",
       "                 Happy Data Science.\n",
       "                 <a href=\"https://www.python.org\" id=\"py-link\">Python</a>\n",
       " </p>\n",
       " </div>\n",
       " <p class=\"outer-text first-item\" id=\"second\">\n",
       " <b>\n",
       "                 Data Science is funny.\n",
       "             </b>\n",
       " </p>\n",
       " <p class=\"outer-text\">\n",
       " <b>\n",
       "                 All I need is Love.\n",
       "             </b>\n",
       " </p>\n",
       " </body>,\n",
       " '\\n']"
      ]
     },
     "execution_count": 60,
     "metadata": {},
     "output_type": "execute_result"
    }
   ],
   "source": [
    "list(html.children)"
   ]
  },
  {
   "cell_type": "code",
   "execution_count": 61,
   "metadata": {},
   "outputs": [
    {
     "data": {
      "text/plain": [
       "<body>\n",
       "<div>\n",
       "<p class=\"inner-text first-item\" id=\"first\">\n",
       "                Happy PinkWink.\n",
       "                <a href=\"http://www.pinkwink.kr\" id=\"pw-link\">PinkWink</a>\n",
       "</p>\n",
       "<p class=\"inner-text second-item\">\n",
       "                Happy Data Science.\n",
       "                <a href=\"https://www.python.org\" id=\"py-link\">Python</a>\n",
       "</p>\n",
       "</div>\n",
       "<p class=\"outer-text first-item\" id=\"second\">\n",
       "<b>\n",
       "                Data Science is funny.\n",
       "            </b>\n",
       "</p>\n",
       "<p class=\"outer-text\">\n",
       "<b>\n",
       "                All I need is Love.\n",
       "            </b>\n",
       "</p>\n",
       "</body>"
      ]
     },
     "execution_count": 61,
     "metadata": {},
     "output_type": "execute_result"
    }
   ],
   "source": [
    "body = list(html.children)[2]\n",
    "body\n",
    "#html.body\n",
    "#soup.html.body"
   ]
  },
  {
   "cell_type": "code",
   "execution_count": 63,
   "metadata": {},
   "outputs": [
    {
     "data": {
      "text/plain": [
       "[<p class=\"inner-text first-item\" id=\"first\">\n",
       "                 Happy PinkWink.\n",
       "                 <a href=\"http://www.pinkwink.kr\" id=\"pw-link\">PinkWink</a>\n",
       " </p>,\n",
       " <p class=\"inner-text second-item\">\n",
       "                 Happy Data Science.\n",
       "                 <a href=\"https://www.python.org\" id=\"py-link\">Python</a>\n",
       " </p>,\n",
       " <p class=\"outer-text first-item\" id=\"second\">\n",
       " <b>\n",
       "                 Data Science is funny.\n",
       "             </b>\n",
       " </p>,\n",
       " <p class=\"outer-text\">\n",
       " <b>\n",
       "                 All I need is Love.\n",
       "             </b>\n",
       " </p>]"
      ]
     },
     "execution_count": 63,
     "metadata": {},
     "output_type": "execute_result"
    }
   ],
   "source": [
    "#태그명으로 접근\n",
    "soup.find(\"p\")\n",
    "soup.find_all(\"p\")"
   ]
  },
  {
   "cell_type": "code",
   "execution_count": 64,
   "metadata": {},
   "outputs": [
    {
     "data": {
      "text/plain": [
       "[<p class=\"outer-text first-item\" id=\"second\">\n",
       " <b>\n",
       "                 Data Science is funny.\n",
       "             </b>\n",
       " </p>,\n",
       " <p class=\"outer-text\">\n",
       " <b>\n",
       "                 All I need is Love.\n",
       "             </b>\n",
       " </p>]"
      ]
     },
     "execution_count": 64,
     "metadata": {},
     "output_type": "execute_result"
    }
   ],
   "source": [
    "# 태그명과 클래스명으로 접근\n",
    "soup.find_all(\"p\", class_=\"outer-text\")"
   ]
  },
  {
   "cell_type": "code",
   "execution_count": 65,
   "metadata": {},
   "outputs": [
    {
     "data": {
      "text/plain": [
       "[<p class=\"outer-text first-item\" id=\"second\">\n",
       " <b>\n",
       "                 Data Science is funny.\n",
       "             </b>\n",
       " </p>]"
      ]
     },
     "execution_count": 65,
     "metadata": {},
     "output_type": "execute_result"
    }
   ],
   "source": [
    "soup.find_all(id= \"second\")"
   ]
  },
  {
   "cell_type": "code",
   "execution_count": 71,
   "metadata": {},
   "outputs": [
    {
     "data": {
      "text/plain": [
       "[<p class=\"inner-text first-item\" id=\"first\">\n",
       "                 Happy PinkWink.\n",
       "                 <a href=\"http://www.pinkwink.kr\" id=\"pw-link\">PinkWink</a>\n",
       " </p>]"
      ]
     },
     "execution_count": 71,
     "metadata": {},
     "output_type": "execute_result"
    }
   ],
   "source": [
    "#id가 first인 태그들을 찾을 수도 있다.\n",
    "soup.find_all(id='first')"
   ]
  },
  {
   "cell_type": "code",
   "execution_count": 68,
   "metadata": {},
   "outputs": [
    {
     "data": {
      "text/plain": [
       "<head>\n",
       "<title>Very Simple HTML Code by PinkWink</title>\n",
       "</head>"
      ]
     },
     "execution_count": 68,
     "metadata": {},
     "output_type": "execute_result"
    }
   ],
   "source": [
    "soup.head\n",
    "\n"
   ]
  },
  {
   "cell_type": "code",
   "execution_count": 70,
   "metadata": {},
   "outputs": [
    {
     "data": {
      "text/plain": [
       "<p class=\"inner-text second-item\">\n",
       "                Happy Data Science.\n",
       "                <a href=\"https://www.python.org\" id=\"py-link\">Python</a>\n",
       "</p>"
      ]
     },
     "execution_count": 70,
     "metadata": {},
     "output_type": "execute_result"
    }
   ],
   "source": [
    "soup.head.next_sibling.next_sibling\n",
    "body.p.next_sibling.next_sibling"
   ]
  },
  {
   "cell_type": "code",
   "execution_count": 72,
   "metadata": {},
   "outputs": [
    {
     "data": {
      "text/plain": [
       "[<a href=\"http://www.pinkwink.kr\" id=\"pw-link\">PinkWink</a>,\n",
       " <a href=\"https://www.python.org\" id=\"py-link\">Python</a>]"
      ]
     },
     "execution_count": 72,
     "metadata": {},
     "output_type": "execute_result"
    }
   ],
   "source": [
    "# 클릭 가능한 링크를 의미하는 a 태그를 찾는다.\n",
    "links = soup.find_all('a')\n",
    "links"
   ]
  },
  {
   "cell_type": "code",
   "execution_count": 74,
   "metadata": {},
   "outputs": [
    {
     "name": "stdout",
     "output_type": "stream",
     "text": [
      "PinkWink->http://www.pinkwink.kr\n",
      "Python->https://www.python.org\n"
     ]
    }
   ],
   "source": [
    "# links에서 href 속성을 찾으면 링크 주소를 얻을 수 있다.\n",
    "for each in links:\n",
    "    href = each['href']\n",
    "    text = each.string\n",
    "    print(text + '->' + href)"
   ]
  },
  {
   "cell_type": "markdown",
   "metadata": {},
   "source": [
    "# span태그에 class 속성이 없는경우"
   ]
  },
  {
   "cell_type": "code",
   "execution_count": 87,
   "metadata": {},
   "outputs": [
    {
     "name": "stdout",
     "output_type": "stream",
     "text": [
      "미 환율:  1,192.00\n",
      "1,192.00\n"
     ]
    }
   ],
   "source": [
    "url = \"https://finance.naver.com/marketindex/\"\n",
    "page = urlopen(url)\n",
    "soup = BeautifulSoup(page,\"html.parser\")\n",
    "span = soup.find_all(\"span\",class_=\"value\")\n",
    "print(\"미 환율: \",span[0].get_text())\n",
    "\n",
    "div = soup.find_all(\"div\",class_=\"head_info\")\n",
    "span1 = div[0].find_all(\"span\")\n",
    "span1\n",
    "print(span1[0].get_text())"
   ]
  },
  {
   "cell_type": "markdown",
   "metadata": {},
   "source": [
    "# select_one(\"클래스.클래스속성 > 클래스.클래스속성\")\n",
    "\n",
    "# 속성이 아이디이면 클래스#아이디값"
   ]
  },
  {
   "cell_type": "code",
   "execution_count": 94,
   "metadata": {},
   "outputs": [
    {
     "data": {
      "text/plain": [
       "[<ul><li><a href=\"/wiki/%ED%95%98%EB%8A%98%EA%B3%BC_%EB%B0%94%EB%9E%8C%EA%B3%BC_%EB%B3%84%EA%B3%BC_%EC%8B%9C/%EC%84%9C%EC%8B%9C\" title=\"하늘과 바람과 별과 시/서시\">서시</a></li>\n",
       " <li><a href=\"/wiki/%ED%95%98%EB%8A%98%EA%B3%BC_%EB%B0%94%EB%9E%8C%EA%B3%BC_%EB%B3%84%EA%B3%BC_%EC%8B%9C/%EC%9E%90%ED%99%94%EC%83%81\" title=\"하늘과 바람과 별과 시/자화상\">자화상</a></li>\n",
       " <li><a href=\"/wiki/%ED%95%98%EB%8A%98%EA%B3%BC_%EB%B0%94%EB%9E%8C%EA%B3%BC_%EB%B3%84%EA%B3%BC_%EC%8B%9C/%EC%86%8C%EB%85%84\" title=\"하늘과 바람과 별과 시/소년\">소년</a></li>\n",
       " <li><a href=\"/wiki/%ED%95%98%EB%8A%98%EA%B3%BC_%EB%B0%94%EB%9E%8C%EA%B3%BC_%EB%B3%84%EA%B3%BC_%EC%8B%9C/%EB%88%88_%EC%98%A4%EB%8A%94_%EC%A7%80%EB%8F%84\" title=\"하늘과 바람과 별과 시/눈 오는 지도\">눈 오는 지도</a></li>\n",
       " <li><a href=\"/wiki/%ED%95%98%EB%8A%98%EA%B3%BC_%EB%B0%94%EB%9E%8C%EA%B3%BC_%EB%B3%84%EA%B3%BC_%EC%8B%9C/%EB%8F%8C%EC%95%84%EC%99%80_%EB%B3%B4%EB%8A%94_%EB%B0%A4\" title=\"하늘과 바람과 별과 시/돌아와 보는 밤\">돌아와 보는 밤</a></li>\n",
       " <li><a href=\"/wiki/%ED%95%98%EB%8A%98%EA%B3%BC_%EB%B0%94%EB%9E%8C%EA%B3%BC_%EB%B3%84%EA%B3%BC_%EC%8B%9C/%EB%B3%91%EC%9B%90\" title=\"하늘과 바람과 별과 시/병원\">병원</a></li>\n",
       " <li><a href=\"/wiki/%ED%95%98%EB%8A%98%EA%B3%BC_%EB%B0%94%EB%9E%8C%EA%B3%BC_%EB%B3%84%EA%B3%BC_%EC%8B%9C/%EC%83%88%EB%A1%9C%EC%9A%B4_%EA%B8%B8\" title=\"하늘과 바람과 별과 시/새로운 길\">새로운 길</a></li>\n",
       " <li><a href=\"/wiki/%ED%95%98%EB%8A%98%EA%B3%BC_%EB%B0%94%EB%9E%8C%EA%B3%BC_%EB%B3%84%EA%B3%BC_%EC%8B%9C/%EA%B0%84%ED%8C%90_%EC%97%86%EB%8A%94_%EA%B1%B0%EB%A6%AC\" title=\"하늘과 바람과 별과 시/간판 없는 거리\">간판 없는 거리</a></li>\n",
       " <li><a href=\"/wiki/%ED%95%98%EB%8A%98%EA%B3%BC_%EB%B0%94%EB%9E%8C%EA%B3%BC_%EB%B3%84%EA%B3%BC_%EC%8B%9C/%ED%83%9C%EC%B4%88%EC%9D%98_%EC%95%84%EC%B9%A8\" title=\"하늘과 바람과 별과 시/태초의 아침\">태초의 아침</a></li>\n",
       " <li><a href=\"/wiki/%ED%95%98%EB%8A%98%EA%B3%BC_%EB%B0%94%EB%9E%8C%EA%B3%BC_%EB%B3%84%EA%B3%BC_%EC%8B%9C/%EB%98%90_%ED%83%9C%EC%B4%88%EC%9D%98_%EC%95%84%EC%B9%A8\" title=\"하늘과 바람과 별과 시/또 태초의 아침\">또 태초의 아침</a></li>\n",
       " <li><a href=\"/wiki/%ED%95%98%EB%8A%98%EA%B3%BC_%EB%B0%94%EB%9E%8C%EA%B3%BC_%EB%B3%84%EA%B3%BC_%EC%8B%9C/%EC%83%88%EB%B2%BD%EC%9D%B4_%EC%98%AC_%EB%95%8C%EA%B9%8C%EC%A7%80\" title=\"하늘과 바람과 별과 시/새벽이 올 때까지\">새벽이 올 때까지</a></li>\n",
       " <li><a href=\"/wiki/%ED%95%98%EB%8A%98%EA%B3%BC_%EB%B0%94%EB%9E%8C%EA%B3%BC_%EB%B3%84%EA%B3%BC_%EC%8B%9C/%EB%AC%B4%EC%84%9C%EC%9A%B4_%EC%8B%9C%EA%B0%84\" title=\"하늘과 바람과 별과 시/무서운 시간\">무서운 시간</a></li>\n",
       " <li><a href=\"/wiki/%ED%95%98%EB%8A%98%EA%B3%BC_%EB%B0%94%EB%9E%8C%EA%B3%BC_%EB%B3%84%EA%B3%BC_%EC%8B%9C/%EC%8B%AD%EC%9E%90%EA%B0%80\" title=\"하늘과 바람과 별과 시/십자가\">십자가</a></li>\n",
       " <li><a href=\"/wiki/%ED%95%98%EB%8A%98%EA%B3%BC_%EB%B0%94%EB%9E%8C%EA%B3%BC_%EB%B3%84%EA%B3%BC_%EC%8B%9C/%EB%B0%94%EB%9E%8C%EC%9D%B4_%EB%B6%88%EC%96%B4\" title=\"하늘과 바람과 별과 시/바람이 불어\">바람이 불어</a></li>\n",
       " <li><a href=\"/wiki/%ED%95%98%EB%8A%98%EA%B3%BC_%EB%B0%94%EB%9E%8C%EA%B3%BC_%EB%B3%84%EA%B3%BC_%EC%8B%9C/%EC%8A%AC%ED%94%88_%EC%A1%B1%EC%86%8D\" title=\"하늘과 바람과 별과 시/슬픈 족속\">슬픈 족속</a></li>\n",
       " <li><a href=\"/wiki/%ED%95%98%EB%8A%98%EA%B3%BC_%EB%B0%94%EB%9E%8C%EA%B3%BC_%EB%B3%84%EA%B3%BC_%EC%8B%9C/%EB%88%88%EA%B0%90%EA%B3%A0_%EA%B0%84%EB%8B%A4\" title=\"하늘과 바람과 별과 시/눈감고 간다\">눈감고 간다</a></li>\n",
       " <li><a href=\"/wiki/%ED%95%98%EB%8A%98%EA%B3%BC_%EB%B0%94%EB%9E%8C%EA%B3%BC_%EB%B3%84%EA%B3%BC_%EC%8B%9C/%EB%98%90_%EB%8B%A4%EB%A5%B8_%EA%B3%A0%ED%96%A5\" title=\"하늘과 바람과 별과 시/또 다른 고향\">또 다른 고향</a></li>\n",
       " <li><a href=\"/wiki/%ED%95%98%EB%8A%98%EA%B3%BC_%EB%B0%94%EB%9E%8C%EA%B3%BC_%EB%B3%84%EA%B3%BC_%EC%8B%9C/%EA%B8%B8\" title=\"하늘과 바람과 별과 시/길\">길</a></li>\n",
       " <li><a href=\"/wiki/%ED%95%98%EB%8A%98%EA%B3%BC_%EB%B0%94%EB%9E%8C%EA%B3%BC_%EB%B3%84%EA%B3%BC_%EC%8B%9C/%EB%B3%84_%ED%97%A4%EB%8A%94_%EB%B0%A4\" title=\"하늘과 바람과 별과 시/별 헤는 밤\">별 헤는 밤</a></li></ul>]"
      ]
     },
     "execution_count": 94,
     "metadata": {},
     "output_type": "execute_result"
    }
   ],
   "source": [
    "# 윤동주 시인의 작품을 추출\n",
    "\n",
    "url = \"https://ko.wikisource.org/wiki/%EC%A0%80%EC%9E%90:%EC%9C%A4%EB%8F%99%EC%A3%BC\"\n",
    "page = urlopen(url)\n",
    "soup = BeautifulSoup(page,\"html.parser\")\n",
    "div = soup.find_all(\"div\",class_ = \"mw-parser-output\")\n",
    "div\n",
    "len(div) # div태그가 몇개인지 확인\n",
    "ul = div[0].find_all(\"ul\")\n",
    "ul1 = ul[0].find_all(\"ul\")\n",
    "for i in ul1\n"
   ]
  },
  {
   "cell_type": "code",
   "execution_count": 106,
   "metadata": {},
   "outputs": [
    {
     "name": "stdout",
     "output_type": "stream",
     "text": [
      "[\"Well, Prince, so Genoa and Lucca are now just family estates of the\\nBuonapartes. But I warn you, if you don't tell me that this means war,\\nif you still try to defend the infamies and horrors perpetrated by\\nthat Antichrist- I really believe he is Antichrist- I will have\\nnothing more to do with you and you are no longer my friend, no longer\\nmy 'faithful slave,' as you call yourself! But how do you do? I see\\nI have frightened you- sit down and tell me all the news.\", 'Anna\\nPavlovna Scherer', 'Empress Marya\\nFedorovna', 'Prince Vasili Kuragin', 'Anna Pavlovna', 'St. Petersburg', 'If you have nothing better to do, Count [or Prince], and if the\\nprospect of spending an evening with a poor invalid is not too\\nterrible, I shall be very charmed to see you tonight between 7 and 10-\\nAnnette Scherer.', 'Heavens! what a virulent attack!', 'the prince', 'Anna Pavlovna', \"First of all, dear friend, tell me how you are. Set your friend's\\nmind at rest,\", 'Can one be well while suffering morally? Can one be calm in times\\nlike these if one has any feeling?', 'Anna Pavlovna', 'You are\\nstaying the whole evening, I hope?', \"And the fete at the English ambassador's? Today is Wednesday. I\\nmust put in an appearance there,\", 'the prince', 'My daughter is\\ncoming for me to take me there.', \"I thought today's fete had been canceled. I confess all these\\nfestivities and fireworks are becoming wearisome.\", 'If they had known that you wished it, the entertainment would\\nhave been put off,', 'the prince', \"Don't tease! Well, and what has been decided about Novosiltsev's\\ndispatch? You know everything.\", 'What can one say about it?', 'the prince', 'What has been decided? They have decided that\\nBuonaparte has burnt his boats, and I believe that we are ready to\\nburn ours.', 'Prince Vasili', 'Anna Pavlovna', 'Anna Pavlovna', \"Oh, don't speak to me of Austria. Perhaps I don't understand\\nthings, but Austria never has wished, and does not wish, for war.\\nShe is betraying us! Russia alone must save Europe. Our gracious\\nsovereign recognizes his high vocation and will be true to it. That is\\nthe one thing I have faith in! Our good and wonderful sovereign has to\\nperform the noblest role on earth, and he is so virtuous and noble\\nthat God will not forsake him. He will fulfill his vocation and\\ncrush the hydra of revolution, which has become more terrible than\\never in the person of this murderer and villain! We alone must\\navenge the blood of the just one.... Whom, I ask you, can we rely\\non?... England with her commercial spirit will not and cannot\\nunderstand the Emperor Alexander's loftiness of soul. She has\\nrefused to evacuate Malta. She wanted to find, and still seeks, some\\nsecret motive in our actions. What answer did Novosiltsev get? None.\\nThe English have not understood and cannot understand the\\nself-abnegation of our Emperor who wants nothing for himself, but only\\ndesires the good of mankind. And what have they promised? Nothing! And\\nwhat little they have promised they will not perform! Prussia has\\nalways declared that Buonaparte is invincible, and that all Europe\\nis powerless before him.... And I don't believe a word that Hardenburg\\nsays, or Haugwitz either. This famous Prussian neutrality is just a\\ntrap. I have faith only in God and the lofty destiny of our adored\\nmonarch. He will save Europe!\", 'I think,', 'the prince', None, 'Wintzingerode', 'King of Prussia', 'In a moment. A propos,', None, 'le Vicomte de Mortemart', 'Montmorencys', 'Rohans', 'Abbe Morio', 'the Emperor', 'I shall be delighted to meet them,', 'the prince', 'But tell me,', 'is it true that the Dowager Empress wants Baron Funke\\nto be appointed first secretary at Vienna? The baron by all accounts\\nis a poor creature.', 'Prince Vasili', 'Dowager Empress Marya Fedorovna', 'the baron', 'Anna Pavlovna', 'the Empress', 'Baron Funke has been recommended to the Dowager Empress by her\\nsister,', 'the Empress', \"Anna Pavlovna's\", 'Her Majesty', 'Baron\\nFunke', 'The prince', 'Anna\\nPavlovna', 'the Empress', 'Now about your family. Do you know that since your daughter came\\nout everyone has been enraptured by her? They say she is amazingly\\nbeautiful.', 'The prince', 'I often think,', None, 'Anatole', \"Two such charming children. And really you appreciate\\nthem less than anyone, and so you don't deserve to have them.\", \"I can't help it,\", 'the prince', 'Lavater would have said I\\nlack the bump of paternity.', \"Don't joke; I mean to have a serious talk with you. Do you know I\\nam dissatisfied with your younger son? Between ourselves\", \"he was mentioned at Her\\nMajesty's and you were pitied....\", 'The prince', 'What would you have me do?', 'You know I did all\\na father could for their education, and they have both turned out\\nfools. Hippolyte is at least a quiet fool, but Anatole is an active\\none. That is the only difference between them.', 'And why are children born to such men as you? If you were not a\\nfather there would be nothing I could reproach you with,', 'Anna\\nPavlovna', \"I am your faithful slave and to you alone I can confess that my\\nchildren are the bane of my life. It is the cross I have to bear. That\\nis how I explain it to myself. It can't be helped!\", 'Anna Pavlovna']\n"
     ]
    }
   ],
   "source": [
    "url  = \"http://www.pythonscraping.com/pages/warandpeace.html\"\n",
    "page = urlopen(url)\n",
    "soup = BeautifulSoup(page, \"html.parser\")\n",
    "\n",
    "green = soup.find_all(\"span\",class_ = \"green\")\n",
    "# for g in green:\n",
    "#     print(g.string)\n",
    "    \n",
    "# green = soup.select(\"div#text > span.green\")\n",
    "# green#select = find_all\n",
    "# for g in green:\n",
    "#     print(g.string)\n",
    "    \n",
    "    \n",
    "# green = soup.find_all(\"span\",{\"class\":\"green\"})\n",
    "\n",
    "# for g in green:\n",
    "#     print(g.string)\n",
    "\n",
    "# titles = soup.find_all([\"h1\",\"h2\"])\n",
    "# print(titles)\n",
    "# print([title.get_text() for title in titles])\n",
    "\n",
    "green_red = soup.find_all(\"span\",{\"class\":{\"green\",\"red\"}})\n",
    "print([text.string for text in green_red])"
   ]
  },
  {
   "cell_type": "code",
   "execution_count": 116,
   "metadata": {},
   "outputs": [
    {
     "data": {
      "text/plain": [
       "'\\n$15.00\\n'"
      ]
     },
     "execution_count": 116,
     "metadata": {},
     "output_type": "execute_result"
    }
   ],
   "source": [
    "url  = \"http://www.pythonscraping.com/pages/page3.html\"\n",
    "page = urlopen(url)\n",
    "soup = BeautifulSoup(page, \"html.parser\")\n",
    "# 제목행을 건너 뛰고 나머지 모든 행 추출\n",
    "#next_siblings = 나머지모두 가져옴 .next_sibling 하면 하나 \n",
    "# for tr in soup.find(\"table\",{\"id\":\"giftList\"}).tr.next_siblings:\n",
    "#     print(tr)\n",
    "    \n",
    "# 가격 중에 $15.00 수집 \n",
    "td=soup.find(\"tr\",id = \"gift1\").td.next_sibling.next_sibling\n",
    "td.get_text()\n",
    "\n",
    "td1 = soup.find(\"img\",{\"src\":\"../img/gifts/img1.jpg\"}).parent.previous_sibling\n",
    "td1.get_text()"
   ]
  },
  {
   "cell_type": "code",
   "execution_count": 117,
   "metadata": {
    "scrolled": true
   },
   "outputs": [
    {
     "name": "stdout",
     "output_type": "stream",
     "text": [
      "ㅋㅋㅋ\n",
      "중간에 외계인 파워레인져 악당만 아니였으면!!!!!!\n",
      "CG는 좋지만 내용이 너무 부실하다..\n",
      "설정이 디즈니 아동만화같은 느낌\n",
      "\n",
      "재밌시유 ㅋㅋ\n",
      "\n",
      "수영장에서 나올떄 왠지 동일시하게 될것같은 ㅋㅋㅋ\n",
      "\n",
      "진짜 지루함\n",
      "개꿀잼이에염\n",
      "영어로 보면 꿀잼인데 더빙으로보면 개노잼\n",
      "제임스 완 다른 히어로무비 연출로도 만날 수 있으면 좋겠다..뽑을줄 아네.\n",
      "만화영화로만 보던 아쿠아맨을 실사로 볼 수 있다는 것으로도 만족\n",
      " 제임스 카메론은 아무나 되는 게 아니다.\n",
      " 하드 오랜만이야..................ㅋ시 스케일이 달라~\n",
      "\n",
      "두번 세번 봐도 전율돋는 잘 만든 영화\n",
      "평타치\n",
      "\n",
      "\n",
      "내 최고의 DC영화!\n",
      "와~액션 대박\n",
      "폭풍처럼 휘몰아치네 ~^^\n",
      "배경은 멋있는데 바다 속 세상에 재한 환상이  조금 아쉽다\n",
      "모모아보다 옴 비주얼이 원작 아쿠아맨에 가깝다.\n",
      "DC의 역대작 바다의 수호신\n",
      "초딩 영웅 영화.\n",
      "진짜 화려하고 환상적이었다\n",
      "참신함과 유치함 사이\n",
      "\n",
      "재미있게 보았다. 너무너무  슈퍼 울드라 짱짱 재미 있었다.\n",
      "화려함 그런데  뭔가. . .\n",
      "스토리나 캐릭터의 빈약함이란..\n",
      "지루하고 재미없는 영화\n",
      "현란함에  눈이 놀라네\n",
      "표절에 되도않는 클리셰를 쑤셔넣은 씨지뽕빨망작\n",
      "다크나이트 다음으로 잘만든 디씨영화\n",
      "스피드하고 시원시원 하다\n",
      "그래픽도 좋고, 재미있네\n",
      "솔직히 이 단순한 스토리에 이 이상 어떻게 더 만들어\n",
      "\n",
      "미국인들이 이정도로 대놓고 만능 슈퍼히어로에 열광하는 것인가 싶다.\n",
      "다른 히어로물과 달리 심해의 아름다운 장면들과 다양한 크리쳐와 유닛들이 볼만했다\n",
      "세상에서 가장 멋진 수족관\n",
      "내용이야 뻔하지만.. 볼만했다.\n",
      "극장에서 안 보길 잘했다결말\n",
      "아직은 엉성하고 갈 길이 먼 DC 히어로.\n",
      "\n",
      "이정도면 상당히 괜찮았음에서 괴물들의  뗴지어 다니는 장면에서 소름돋고 멋있었음\n"
     ]
    }
   ],
   "source": [
    "review_list =[]\n",
    "for i in range(1,6):\n",
    "    target = urlopen(\"https://movie.daum.net/moviedb/grade?movieId=94484&type=netizen&page={}\".format(i))\n",
    "    soup = BeautifulSoup(target, \"html.parser\")\n",
    "    \n",
    "    reviews = soup.select(\"p.desc_review\")\n",
    "    for review in reviews:\n",
    "        str = review.get_text().strip()\n",
    "#         print(str)\n",
    "        review_list.append(str)\n",
    "    \n",
    "f = open(\"data/아쿠아맨.txt\",\"w\")\n",
    "for review in review_list:\n",
    "    f.write(review +'\\n')\n",
    "f.close()"
   ]
  },
  {
   "cell_type": "code",
   "execution_count": null,
   "metadata": {},
   "outputs": [],
   "source": [
    "reviews = soup.select(\"p.desc_review\")\n",
    "for i in reviews:\n",
    "   str = i.get_text().strip()"
   ]
  }
 ],
 "metadata": {
  "kernelspec": {
   "display_name": "Python 3",
   "language": "python",
   "name": "python3"
  },
  "language_info": {
   "codemirror_mode": {
    "name": "ipython",
    "version": 3
   },
   "file_extension": ".py",
   "mimetype": "text/x-python",
   "name": "python",
   "nbconvert_exporter": "python",
   "pygments_lexer": "ipython3",
   "version": "3.7.6"
  }
 },
 "nbformat": 4,
 "nbformat_minor": 4
}
